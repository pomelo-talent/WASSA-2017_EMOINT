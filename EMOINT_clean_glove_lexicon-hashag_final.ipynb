{
 "cells": [
  {
   "cell_type": "markdown",
   "metadata": {},
   "source": [
    "# 1. Data Preprocessing"
   ]
  },
  {
   "cell_type": "markdown",
   "metadata": {},
   "source": [
    "# (1) Reading the Training, the Development and the Testing Datasets "
   ]
  },
  {
   "cell_type": "code",
   "execution_count": 1,
   "metadata": {},
   "outputs": [],
   "source": [
    "import pandas as pd\n",
    "from os import listdir\n",
    "\n",
    "import matplotlib.pyplot as plt\n",
    "import numpy as np"
   ]
  },
  {
   "cell_type": "code",
   "execution_count": 2,
   "metadata": {},
   "outputs": [
    {
     "data": {
      "text/plain": [
       "['anger-ratings-0to1.train.txt',\n",
       " 'fear-ratings-0to1.train.txt',\n",
       " 'joy-ratings-0to1.train.txt',\n",
       " 'sadness-ratings-0to1.train.txt']"
      ]
     },
     "execution_count": 2,
     "metadata": {},
     "output_type": "execute_result"
    }
   ],
   "source": [
    "directory1 = 'data/train'\n",
    "paths1 = listdir(directory1)\n",
    "paths1.sort()\n",
    "paths1"
   ]
  },
  {
   "cell_type": "code",
   "execution_count": 3,
   "metadata": {},
   "outputs": [
    {
     "data": {
      "text/html": [
       "<div>\n",
       "<style scoped>\n",
       "    .dataframe tbody tr th:only-of-type {\n",
       "        vertical-align: middle;\n",
       "    }\n",
       "\n",
       "    .dataframe tbody tr th {\n",
       "        vertical-align: top;\n",
       "    }\n",
       "\n",
       "    .dataframe thead th {\n",
       "        text-align: right;\n",
       "    }\n",
       "</style>\n",
       "<table border=\"1\" class=\"dataframe\">\n",
       "  <thead>\n",
       "    <tr style=\"text-align: right;\">\n",
       "      <th></th>\n",
       "      <th>0</th>\n",
       "      <th>1</th>\n",
       "      <th>2</th>\n",
       "      <th>3</th>\n",
       "    </tr>\n",
       "  </thead>\n",
       "  <tbody>\n",
       "    <tr>\n",
       "      <th>0</th>\n",
       "      <td>10000</td>\n",
       "      <td>How the fu*k! Who the heck! moved my fridge!.....</td>\n",
       "      <td>anger</td>\n",
       "      <td>0.938</td>\n",
       "    </tr>\n",
       "    <tr>\n",
       "      <th>1</th>\n",
       "      <td>10001</td>\n",
       "      <td>So my Indian Uber driver just called someone t...</td>\n",
       "      <td>anger</td>\n",
       "      <td>0.896</td>\n",
       "    </tr>\n",
       "    <tr>\n",
       "      <th>2</th>\n",
       "      <td>10002</td>\n",
       "      <td>@DPD_UK I asked for my parcel to be delivered ...</td>\n",
       "      <td>anger</td>\n",
       "      <td>0.896</td>\n",
       "    </tr>\n",
       "    <tr>\n",
       "      <th>3</th>\n",
       "      <td>10003</td>\n",
       "      <td>so ef whichever butt wipe pulled the fire alar...</td>\n",
       "      <td>anger</td>\n",
       "      <td>0.896</td>\n",
       "    </tr>\n",
       "    <tr>\n",
       "      <th>4</th>\n",
       "      <td>10004</td>\n",
       "      <td>Don't join @BTCare they put the phone down on ...</td>\n",
       "      <td>anger</td>\n",
       "      <td>0.896</td>\n",
       "    </tr>\n",
       "  </tbody>\n",
       "</table>\n",
       "</div>"
      ],
      "text/plain": [
       "       0                                                  1      2      3\n",
       "0  10000  How the fu*k! Who the heck! moved my fridge!.....  anger  0.938\n",
       "1  10001  So my Indian Uber driver just called someone t...  anger  0.896\n",
       "2  10002  @DPD_UK I asked for my parcel to be delivered ...  anger  0.896\n",
       "3  10003  so ef whichever butt wipe pulled the fire alar...  anger  0.896\n",
       "4  10004  Don't join @BTCare they put the phone down on ...  anger  0.896"
      ]
     },
     "execution_count": 3,
     "metadata": {},
     "output_type": "execute_result"
    }
   ],
   "source": [
    "train_anger = pd.read_csv('%s/%s' %(directory1,paths1[0]), delimiter='\\t',header=None)\n",
    "train_anger.head()"
   ]
  },
  {
   "cell_type": "code",
   "execution_count": 4,
   "metadata": {},
   "outputs": [
    {
     "data": {
      "text/html": [
       "<div>\n",
       "<style scoped>\n",
       "    .dataframe tbody tr th:only-of-type {\n",
       "        vertical-align: middle;\n",
       "    }\n",
       "\n",
       "    .dataframe tbody tr th {\n",
       "        vertical-align: top;\n",
       "    }\n",
       "\n",
       "    .dataframe thead th {\n",
       "        text-align: right;\n",
       "    }\n",
       "</style>\n",
       "<table border=\"1\" class=\"dataframe\">\n",
       "  <thead>\n",
       "    <tr style=\"text-align: right;\">\n",
       "      <th></th>\n",
       "      <th>SentID</th>\n",
       "      <th>Tweet</th>\n",
       "      <th>Emotion</th>\n",
       "      <th>Rating</th>\n",
       "    </tr>\n",
       "  </thead>\n",
       "  <tbody>\n",
       "    <tr>\n",
       "      <th>0</th>\n",
       "      <td>10000</td>\n",
       "      <td>How the fu*k! Who the heck! moved my fridge!.....</td>\n",
       "      <td>anger</td>\n",
       "      <td>0.938</td>\n",
       "    </tr>\n",
       "    <tr>\n",
       "      <th>1</th>\n",
       "      <td>10001</td>\n",
       "      <td>So my Indian Uber driver just called someone t...</td>\n",
       "      <td>anger</td>\n",
       "      <td>0.896</td>\n",
       "    </tr>\n",
       "    <tr>\n",
       "      <th>2</th>\n",
       "      <td>10002</td>\n",
       "      <td>@DPD_UK I asked for my parcel to be delivered ...</td>\n",
       "      <td>anger</td>\n",
       "      <td>0.896</td>\n",
       "    </tr>\n",
       "    <tr>\n",
       "      <th>3</th>\n",
       "      <td>10003</td>\n",
       "      <td>so ef whichever butt wipe pulled the fire alar...</td>\n",
       "      <td>anger</td>\n",
       "      <td>0.896</td>\n",
       "    </tr>\n",
       "    <tr>\n",
       "      <th>4</th>\n",
       "      <td>10004</td>\n",
       "      <td>Don't join @BTCare they put the phone down on ...</td>\n",
       "      <td>anger</td>\n",
       "      <td>0.896</td>\n",
       "    </tr>\n",
       "    <tr>\n",
       "      <th>5</th>\n",
       "      <td>10005</td>\n",
       "      <td>My blood is boiling</td>\n",
       "      <td>anger</td>\n",
       "      <td>0.875</td>\n",
       "    </tr>\n",
       "    <tr>\n",
       "      <th>6</th>\n",
       "      <td>10006</td>\n",
       "      <td>When you've still got a whole season of Wentwo...</td>\n",
       "      <td>anger</td>\n",
       "      <td>0.875</td>\n",
       "    </tr>\n",
       "    <tr>\n",
       "      <th>7</th>\n",
       "      <td>10007</td>\n",
       "      <td>@bt_uk why does tracking show my equipment del...</td>\n",
       "      <td>anger</td>\n",
       "      <td>0.875</td>\n",
       "    </tr>\n",
       "    <tr>\n",
       "      <th>8</th>\n",
       "      <td>10008</td>\n",
       "      <td>@TeamShanny legit why i am so furious with him...</td>\n",
       "      <td>anger</td>\n",
       "      <td>0.875</td>\n",
       "    </tr>\n",
       "    <tr>\n",
       "      <th>9</th>\n",
       "      <td>10009</td>\n",
       "      <td>How is it suppose to work if you do that? Wtf ...</td>\n",
       "      <td>anger</td>\n",
       "      <td>0.875</td>\n",
       "    </tr>\n",
       "  </tbody>\n",
       "</table>\n",
       "</div>"
      ],
      "text/plain": [
       "   SentID                                              Tweet Emotion  Rating\n",
       "0   10000  How the fu*k! Who the heck! moved my fridge!.....   anger   0.938\n",
       "1   10001  So my Indian Uber driver just called someone t...   anger   0.896\n",
       "2   10002  @DPD_UK I asked for my parcel to be delivered ...   anger   0.896\n",
       "3   10003  so ef whichever butt wipe pulled the fire alar...   anger   0.896\n",
       "4   10004  Don't join @BTCare they put the phone down on ...   anger   0.896\n",
       "5   10005                                My blood is boiling   anger   0.875\n",
       "6   10006  When you've still got a whole season of Wentwo...   anger   0.875\n",
       "7   10007  @bt_uk why does tracking show my equipment del...   anger   0.875\n",
       "8   10008  @TeamShanny legit why i am so furious with him...   anger   0.875\n",
       "9   10009  How is it suppose to work if you do that? Wtf ...   anger   0.875"
      ]
     },
     "execution_count": 4,
     "metadata": {},
     "output_type": "execute_result"
    }
   ],
   "source": [
    "train_anger.columns = ['SentID', 'Tweet', 'Emotion', 'Rating']\n",
    "train_anger[:10]"
   ]
  },
  {
   "cell_type": "code",
   "execution_count": 5,
   "metadata": {},
   "outputs": [],
   "source": [
    "train_fear = pd.read_csv('%s/%s' %(directory1,paths1[1]), delimiter='\\t',header=None)\n",
    "train_fear.columns = train_anger.columns\n",
    "\n",
    "train_joy = pd.read_csv('%s/%s' %(directory1,paths1[2]), delimiter='\\t',header=None) \n",
    "train_joy.columns = train_anger.columns\n",
    "\n",
    "train_sadness = pd.read_csv('%s/%s' %(directory1,paths1[3]), delimiter='\\t',header=None) \n",
    "train_sadness.columns = train_anger.columns"
   ]
  },
  {
   "cell_type": "code",
   "execution_count": 6,
   "metadata": {},
   "outputs": [],
   "source": [
    "# check if there are any duplicates(subset = all of the columns)\n",
    "\n",
    "assert train_fear.duplicated().sum() == 0\n",
    "assert train_anger.duplicated().sum() == 0\n",
    "assert train_joy.duplicated().sum() == 0\n",
    "assert train_sadness.duplicated().sum() == 0"
   ]
  },
  {
   "cell_type": "code",
   "execution_count": 7,
   "metadata": {
    "scrolled": true
   },
   "outputs": [
    {
     "name": "stdout",
     "output_type": "stream",
     "text": [
      "<class 'pandas.core.frame.DataFrame'>\n",
      "RangeIndex: 857 entries, 0 to 856\n",
      "Data columns (total 4 columns):\n",
      " #   Column   Non-Null Count  Dtype  \n",
      "---  ------   --------------  -----  \n",
      " 0   SentID   857 non-null    int64  \n",
      " 1   Tweet    857 non-null    object \n",
      " 2   Emotion  857 non-null    object \n",
      " 3   Rating   857 non-null    float64\n",
      "dtypes: float64(1), int64(1), object(2)\n",
      "memory usage: 26.9+ KB\n",
      "<class 'pandas.core.frame.DataFrame'>\n",
      "RangeIndex: 1147 entries, 0 to 1146\n",
      "Data columns (total 4 columns):\n",
      " #   Column   Non-Null Count  Dtype  \n",
      "---  ------   --------------  -----  \n",
      " 0   SentID   1147 non-null   int64  \n",
      " 1   Tweet    1147 non-null   object \n",
      " 2   Emotion  1147 non-null   object \n",
      " 3   Rating   1147 non-null   float64\n",
      "dtypes: float64(1), int64(1), object(2)\n",
      "memory usage: 36.0+ KB\n",
      "<class 'pandas.core.frame.DataFrame'>\n",
      "RangeIndex: 823 entries, 0 to 822\n",
      "Data columns (total 4 columns):\n",
      " #   Column   Non-Null Count  Dtype  \n",
      "---  ------   --------------  -----  \n",
      " 0   SentID   823 non-null    int64  \n",
      " 1   Tweet    823 non-null    object \n",
      " 2   Emotion  823 non-null    object \n",
      " 3   Rating   823 non-null    float64\n",
      "dtypes: float64(1), int64(1), object(2)\n",
      "memory usage: 25.8+ KB\n",
      "<class 'pandas.core.frame.DataFrame'>\n",
      "RangeIndex: 786 entries, 0 to 785\n",
      "Data columns (total 4 columns):\n",
      " #   Column   Non-Null Count  Dtype  \n",
      "---  ------   --------------  -----  \n",
      " 0   SentID   786 non-null    int64  \n",
      " 1   Tweet    786 non-null    object \n",
      " 2   Emotion  786 non-null    object \n",
      " 3   Rating   786 non-null    float64\n",
      "dtypes: float64(1), int64(1), object(2)\n",
      "memory usage: 24.7+ KB\n",
      "None None None None\n"
     ]
    }
   ],
   "source": [
    "# checking missing data & len(train),len(test)\n",
    "print(train_anger.info(), train_fear.info(), train_joy.info(), train_sadness.info())"
   ]
  },
  {
   "cell_type": "code",
   "execution_count": 8,
   "metadata": {},
   "outputs": [
    {
     "name": "stdout",
     "output_type": "stream",
     "text": [
      "             SentID      Rating\n",
      "count    857.000000  857.000000\n",
      "mean   10428.000000    0.496475\n",
      "std      247.538886    0.169169\n",
      "min    10000.000000    0.067000\n",
      "25%    10214.000000    0.375000\n",
      "50%    10428.000000    0.479000\n",
      "75%    10642.000000    0.604000\n",
      "max    10856.000000    0.938000 \n",
      "              SentID       Rating\n",
      "count   1147.000000  1147.000000\n",
      "mean   20573.000000     0.495579\n",
      "std      331.254686     0.194792\n",
      "min    20000.000000     0.062000\n",
      "25%    20286.500000     0.354000\n",
      "50%    20573.000000     0.479000\n",
      "75%    20859.500000     0.625000\n",
      "max    21146.000000     0.979000 \n",
      "             SentID      Rating\n",
      "count    823.00000  823.000000\n",
      "mean   30411.00000    0.492618\n",
      "std      237.72393    0.204334\n",
      "min    30000.00000    0.019000\n",
      "25%    30205.50000    0.340000\n",
      "50%    30411.00000    0.480000\n",
      "75%    30616.50000    0.646000\n",
      "max    30822.00000    0.980000 \n",
      "              SentID      Rating\n",
      "count    786.000000  786.000000\n",
      "mean   40392.500000    0.495957\n",
      "std      227.042947    0.190841\n",
      "min    40000.000000    0.083000\n",
      "25%    40196.250000    0.351750\n",
      "50%    40392.500000    0.479000\n",
      "75%    40588.750000    0.646000\n",
      "max    40785.000000    0.958000\n"
     ]
    }
   ],
   "source": [
    "print(train_anger.describe(), \"\\n\", train_fear.describe(), \"\\n\", train_joy.describe(), \"\\n\", train_sadness.describe() )"
   ]
  },
  {
   "cell_type": "code",
   "execution_count": 9,
   "metadata": {},
   "outputs": [
    {
     "data": {
      "image/png": "[encoded data removed]",
      "text/plain": [
       "<Figure size 432x288 with 1 Axes>"
      ]
     },
     "metadata": {
      "needs_background": "light"
     },
     "output_type": "display_data"
    }
   ],
   "source": [
    "# check the counts of observations in each categorical bin using bars (to see if we need data balance.)\n",
    "d_train = [train_anger.shape[0], train_fear.shape[0], train_joy.shape[0], train_sadness.shape[0]]\n",
    "labels= [\"anger\", \"fear\", \"joy\", \"sadness\"]\n",
    "plt.bar(labels, d_train,tick_label=labels)\n",
    "plt.show()"
   ]
  },
  {
   "cell_type": "code",
   "execution_count": 10,
   "metadata": {},
   "outputs": [
    {
     "data": {
      "text/html": [
       "<div>\n",
       "<style scoped>\n",
       "    .dataframe tbody tr th:only-of-type {\n",
       "        vertical-align: middle;\n",
       "    }\n",
       "\n",
       "    .dataframe tbody tr th {\n",
       "        vertical-align: top;\n",
       "    }\n",
       "\n",
       "    .dataframe thead th {\n",
       "        text-align: right;\n",
       "    }\n",
       "</style>\n",
       "<table border=\"1\" class=\"dataframe\">\n",
       "  <thead>\n",
       "    <tr style=\"text-align: right;\">\n",
       "      <th></th>\n",
       "      <th>SentID</th>\n",
       "      <th>Tweet</th>\n",
       "      <th>Emotion</th>\n",
       "      <th>Rating</th>\n",
       "    </tr>\n",
       "  </thead>\n",
       "  <tbody>\n",
       "    <tr>\n",
       "      <th>0</th>\n",
       "      <td>10857</td>\n",
       "      <td>@ZubairSabirPTI  pls dont insult the word 'Molna'</td>\n",
       "      <td>anger</td>\n",
       "      <td>0.479</td>\n",
       "    </tr>\n",
       "    <tr>\n",
       "      <th>1</th>\n",
       "      <td>10858</td>\n",
       "      <td>@ArcticFantasy I would have almost took offens...</td>\n",
       "      <td>anger</td>\n",
       "      <td>0.458</td>\n",
       "    </tr>\n",
       "    <tr>\n",
       "      <th>2</th>\n",
       "      <td>10859</td>\n",
       "      <td>@IllinoisLoyalty that Rutgers game was an abom...</td>\n",
       "      <td>anger</td>\n",
       "      <td>0.562</td>\n",
       "    </tr>\n",
       "    <tr>\n",
       "      <th>3</th>\n",
       "      <td>10860</td>\n",
       "      <td>@CozanGaming that's what lisa asked before she...</td>\n",
       "      <td>anger</td>\n",
       "      <td>0.500</td>\n",
       "    </tr>\n",
       "    <tr>\n",
       "      <th>4</th>\n",
       "      <td>10861</td>\n",
       "      <td>Sometimes I get mad over something so minuscul...</td>\n",
       "      <td>anger</td>\n",
       "      <td>0.708</td>\n",
       "    </tr>\n",
       "    <tr>\n",
       "      <th>5</th>\n",
       "      <td>10862</td>\n",
       "      <td>Sometimes I get mad over something so minuscul...</td>\n",
       "      <td>anger</td>\n",
       "      <td>0.646</td>\n",
       "    </tr>\n",
       "    <tr>\n",
       "      <th>6</th>\n",
       "      <td>10863</td>\n",
       "      <td>I think @Sam_Canaday &amp;amp; @KYLEJDOWSON must a...</td>\n",
       "      <td>anger</td>\n",
       "      <td>0.250</td>\n",
       "    </tr>\n",
       "    <tr>\n",
       "      <th>7</th>\n",
       "      <td>10864</td>\n",
       "      <td>My eyes have been dilated. I hate the world ri...</td>\n",
       "      <td>anger</td>\n",
       "      <td>0.812</td>\n",
       "    </tr>\n",
       "    <tr>\n",
       "      <th>8</th>\n",
       "      <td>10865</td>\n",
       "      <td>@huwellwell One chosen by the CLP members! MP ...</td>\n",
       "      <td>anger</td>\n",
       "      <td>0.682</td>\n",
       "    </tr>\n",
       "    <tr>\n",
       "      <th>9</th>\n",
       "      <td>10866</td>\n",
       "      <td>@huwellwell One chosen by the CLP members! MP ...</td>\n",
       "      <td>anger</td>\n",
       "      <td>0.438</td>\n",
       "    </tr>\n",
       "  </tbody>\n",
       "</table>\n",
       "</div>"
      ],
      "text/plain": [
       "   SentID                                              Tweet Emotion  Rating\n",
       "0   10857  @ZubairSabirPTI  pls dont insult the word 'Molna'   anger   0.479\n",
       "1   10858  @ArcticFantasy I would have almost took offens...   anger   0.458\n",
       "2   10859  @IllinoisLoyalty that Rutgers game was an abom...   anger   0.562\n",
       "3   10860  @CozanGaming that's what lisa asked before she...   anger   0.500\n",
       "4   10861  Sometimes I get mad over something so minuscul...   anger   0.708\n",
       "5   10862  Sometimes I get mad over something so minuscul...   anger   0.646\n",
       "6   10863  I think @Sam_Canaday &amp; @KYLEJDOWSON must a...   anger   0.250\n",
       "7   10864  My eyes have been dilated. I hate the world ri...   anger   0.812\n",
       "8   10865  @huwellwell One chosen by the CLP members! MP ...   anger   0.682\n",
       "9   10866  @huwellwell One chosen by the CLP members! MP ...   anger   0.438"
      ]
     },
     "execution_count": 10,
     "metadata": {},
     "output_type": "execute_result"
    }
   ],
   "source": [
    "directory2 = 'data/dev'\n",
    "paths2 = listdir(directory2)\n",
    "paths2.sort()\n",
    "paths2\n",
    "\n",
    "dev_anger = pd.read_csv('%s/%s' %(directory2,paths2[0]), delimiter='\\t',header=None)\n",
    "dev_anger.columns = train_anger.columns\n",
    "dev_anger[:10]"
   ]
  },
  {
   "cell_type": "code",
   "execution_count": 11,
   "metadata": {},
   "outputs": [],
   "source": [
    "dev_fear = pd.read_csv('%s/%s' %(directory2,paths2[1]), delimiter='\\t',header=None)\n",
    "dev_fear.columns = train_anger.columns\n",
    "\n",
    "dev_joy = pd.read_csv('%s/%s' %(directory2,paths2[2]), delimiter='\\t',header=None) \n",
    "dev_joy.columns = train_anger.columns\n",
    "\n",
    "dev_sadness = pd.read_csv('%s/%s' %(directory2,paths2[3]), delimiter='\\t',header=None) \n",
    "dev_sadness.columns = train_anger.columns"
   ]
  },
  {
   "cell_type": "code",
   "execution_count": 12,
   "metadata": {},
   "outputs": [],
   "source": [
    "# check if there are any duplicates(subset = all of the columns)\n",
    "\n",
    "assert dev_fear.duplicated().sum() == 0\n",
    "assert dev_anger.duplicated().sum() == 0\n",
    "assert dev_joy.duplicated().sum() == 0\n",
    "assert dev_sadness.duplicated().sum() == 0"
   ]
  },
  {
   "cell_type": "code",
   "execution_count": 13,
   "metadata": {},
   "outputs": [
    {
     "name": "stdout",
     "output_type": "stream",
     "text": [
      "<class 'pandas.core.frame.DataFrame'>\n",
      "RangeIndex: 110 entries, 0 to 109\n",
      "Data columns (total 4 columns):\n",
      " #   Column   Non-Null Count  Dtype  \n",
      "---  ------   --------------  -----  \n",
      " 0   SentID   110 non-null    int64  \n",
      " 1   Tweet    110 non-null    object \n",
      " 2   Emotion  110 non-null    object \n",
      " 3   Rating   110 non-null    float64\n",
      "dtypes: float64(1), int64(1), object(2)\n",
      "memory usage: 3.6+ KB\n",
      "<class 'pandas.core.frame.DataFrame'>\n",
      "RangeIndex: 110 entries, 0 to 109\n",
      "Data columns (total 4 columns):\n",
      " #   Column   Non-Null Count  Dtype  \n",
      "---  ------   --------------  -----  \n",
      " 0   SentID   110 non-null    int64  \n",
      " 1   Tweet    110 non-null    object \n",
      " 2   Emotion  110 non-null    object \n",
      " 3   Rating   110 non-null    float64\n",
      "dtypes: float64(1), int64(1), object(2)\n",
      "memory usage: 3.6+ KB\n",
      "<class 'pandas.core.frame.DataFrame'>\n",
      "RangeIndex: 79 entries, 0 to 78\n",
      "Data columns (total 4 columns):\n",
      " #   Column   Non-Null Count  Dtype  \n",
      "---  ------   --------------  -----  \n",
      " 0   SentID   79 non-null     int64  \n",
      " 1   Tweet    79 non-null     object \n",
      " 2   Emotion  79 non-null     object \n",
      " 3   Rating   79 non-null     float64\n",
      "dtypes: float64(1), int64(1), object(2)\n",
      "memory usage: 2.6+ KB\n",
      "<class 'pandas.core.frame.DataFrame'>\n",
      "RangeIndex: 74 entries, 0 to 73\n",
      "Data columns (total 4 columns):\n",
      " #   Column   Non-Null Count  Dtype  \n",
      "---  ------   --------------  -----  \n",
      " 0   SentID   74 non-null     int64  \n",
      " 1   Tweet    74 non-null     object \n",
      " 2   Emotion  74 non-null     object \n",
      " 3   Rating   74 non-null     float64\n",
      "dtypes: float64(1), int64(1), object(2)\n",
      "memory usage: 2.4+ KB\n",
      "None None None None\n"
     ]
    }
   ],
   "source": [
    "# checking missing data & len(train),len(test)\n",
    "print(dev_fear.info(), dev_fear.info(), dev_joy.info(), dev_sadness.info())"
   ]
  },
  {
   "cell_type": "code",
   "execution_count": 14,
   "metadata": {},
   "outputs": [
    {
     "name": "stdout",
     "output_type": "stream",
     "text": [
      "             SentID     Rating\n",
      "count     84.000000  84.000000\n",
      "mean   10898.500000   0.489607\n",
      "std       24.392622   0.156768\n",
      "min    10857.000000   0.125000\n",
      "25%    10877.750000   0.410250\n",
      "50%    10898.500000   0.500000\n",
      "75%    10919.250000   0.590500\n",
      "max    10940.000000   0.860000 \n",
      "              SentID      Rating\n",
      "count    110.000000  110.000000\n",
      "mean   21201.500000    0.489309\n",
      "std       31.898276    0.185675\n",
      "min    21147.000000    0.060000\n",
      "25%    21174.250000    0.354000\n",
      "50%    21201.500000    0.466500\n",
      "75%    21228.750000    0.632500\n",
      "max    21256.000000    0.896000 \n",
      "              SentID     Rating\n",
      "count     79.000000  79.000000\n",
      "mean   30862.000000   0.483392\n",
      "std       22.949219   0.219682\n",
      "min    30823.000000   0.038000\n",
      "25%    30842.500000   0.312000\n",
      "50%    30862.000000   0.479000\n",
      "75%    30881.500000   0.653000\n",
      "max    30901.000000   0.936000 \n",
      "              SentID     Rating\n",
      "count     74.000000  74.000000\n",
      "mean   40822.500000   0.475743\n",
      "std       21.505813   0.178436\n",
      "min    40786.000000   0.125000\n",
      "25%    40804.250000   0.340750\n",
      "50%    40822.500000   0.458000\n",
      "75%    40840.750000   0.625000\n",
      "max    40859.000000   0.875000\n"
     ]
    }
   ],
   "source": [
    "print(dev_anger.describe(), \"\\n\", dev_fear.describe(), \"\\n\", dev_joy.describe(), \"\\n\", dev_sadness.describe() )"
   ]
  },
  {
   "cell_type": "code",
   "execution_count": 15,
   "metadata": {},
   "outputs": [
    {
     "data": {
      "image/png": "[encoded data removed]",
      "text/plain": [
       "<Figure size 432x288 with 1 Axes>"
      ]
     },
     "metadata": {
      "needs_background": "light"
     },
     "output_type": "display_data"
    }
   ],
   "source": [
    "# check the counts of observations in each categorical bin using bars (to see if we need data balance.)\n",
    "d_dev = [dev_anger.shape[0], dev_fear.shape[0], dev_joy.shape[0], dev_sadness.shape[0]]\n",
    "labels= [\"anger\", \"fear\", \"joy\", \"sadness\"]\n",
    "plt.bar(labels, d_dev,tick_label=labels)\n",
    "plt.show()"
   ]
  },
  {
   "cell_type": "code",
   "execution_count": 16,
   "metadata": {},
   "outputs": [
    {
     "data": {
      "text/html": [
       "<div>\n",
       "<style scoped>\n",
       "    .dataframe tbody tr th:only-of-type {\n",
       "        vertical-align: middle;\n",
       "    }\n",
       "\n",
       "    .dataframe tbody tr th {\n",
       "        vertical-align: top;\n",
       "    }\n",
       "\n",
       "    .dataframe thead th {\n",
       "        text-align: right;\n",
       "    }\n",
       "</style>\n",
       "<table border=\"1\" class=\"dataframe\">\n",
       "  <thead>\n",
       "    <tr style=\"text-align: right;\">\n",
       "      <th></th>\n",
       "      <th>SentID</th>\n",
       "      <th>Tweet</th>\n",
       "      <th>Emotion</th>\n",
       "      <th>Rating</th>\n",
       "    </tr>\n",
       "  </thead>\n",
       "  <tbody>\n",
       "    <tr>\n",
       "      <th>0</th>\n",
       "      <td>10941</td>\n",
       "      <td>At the point today where if someone says somet...</td>\n",
       "      <td>anger</td>\n",
       "      <td>0.319</td>\n",
       "    </tr>\n",
       "    <tr>\n",
       "      <th>1</th>\n",
       "      <td>10942</td>\n",
       "      <td>@CorningFootball  IT'S GAME DAY!!!!      T MIN...</td>\n",
       "      <td>anger</td>\n",
       "      <td>0.144</td>\n",
       "    </tr>\n",
       "    <tr>\n",
       "      <th>2</th>\n",
       "      <td>10943</td>\n",
       "      <td>This game has pissed me off more than any othe...</td>\n",
       "      <td>anger</td>\n",
       "      <td>0.898</td>\n",
       "    </tr>\n",
       "    <tr>\n",
       "      <th>3</th>\n",
       "      <td>10944</td>\n",
       "      <td>@spamvicious I've just found out it's Candice ...</td>\n",
       "      <td>anger</td>\n",
       "      <td>0.271</td>\n",
       "    </tr>\n",
       "    <tr>\n",
       "      <th>4</th>\n",
       "      <td>10945</td>\n",
       "      <td>@moocowward @mrsajhargreaves @Melly77 @GaryBar...</td>\n",
       "      <td>anger</td>\n",
       "      <td>0.646</td>\n",
       "    </tr>\n",
       "    <tr>\n",
       "      <th>5</th>\n",
       "      <td>10946</td>\n",
       "      <td>@moocowward @mrsajhargreaves @Melly77 @GaryBar...</td>\n",
       "      <td>anger</td>\n",
       "      <td>0.583</td>\n",
       "    </tr>\n",
       "    <tr>\n",
       "      <th>6</th>\n",
       "      <td>10947</td>\n",
       "      <td>wanna go home and focus up on this game . Don'...</td>\n",
       "      <td>anger</td>\n",
       "      <td>0.375</td>\n",
       "    </tr>\n",
       "    <tr>\n",
       "      <th>7</th>\n",
       "      <td>10948</td>\n",
       "      <td>@virginmedia I've been disconnected whilst on ...</td>\n",
       "      <td>anger</td>\n",
       "      <td>0.625</td>\n",
       "    </tr>\n",
       "    <tr>\n",
       "      <th>8</th>\n",
       "      <td>10949</td>\n",
       "      <td>@virginmedia I've been disconnected whilst on ...</td>\n",
       "      <td>anger</td>\n",
       "      <td>0.396</td>\n",
       "    </tr>\n",
       "    <tr>\n",
       "      <th>9</th>\n",
       "      <td>10950</td>\n",
       "      <td>I wanna see you smile I don't wanna see you ma...</td>\n",
       "      <td>anger</td>\n",
       "      <td>0.250</td>\n",
       "    </tr>\n",
       "  </tbody>\n",
       "</table>\n",
       "</div>"
      ],
      "text/plain": [
       "   SentID                                              Tweet Emotion  Rating\n",
       "0   10941  At the point today where if someone says somet...   anger   0.319\n",
       "1   10942  @CorningFootball  IT'S GAME DAY!!!!      T MIN...   anger   0.144\n",
       "2   10943  This game has pissed me off more than any othe...   anger   0.898\n",
       "3   10944  @spamvicious I've just found out it's Candice ...   anger   0.271\n",
       "4   10945  @moocowward @mrsajhargreaves @Melly77 @GaryBar...   anger   0.646\n",
       "5   10946  @moocowward @mrsajhargreaves @Melly77 @GaryBar...   anger   0.583\n",
       "6   10947  wanna go home and focus up on this game . Don'...   anger   0.375\n",
       "7   10948  @virginmedia I've been disconnected whilst on ...   anger   0.625\n",
       "8   10949  @virginmedia I've been disconnected whilst on ...   anger   0.396\n",
       "9   10950  I wanna see you smile I don't wanna see you ma...   anger   0.250"
      ]
     },
     "execution_count": 16,
     "metadata": {},
     "output_type": "execute_result"
    }
   ],
   "source": [
    "directory3 = 'data/test'\n",
    "paths3 = listdir(directory3)\n",
    "paths3.sort()\n",
    "paths3\n",
    "\n",
    "test_anger = pd.read_csv('%s/%s' %(directory3,paths3[0]), delimiter='\\t',header=None)\n",
    "test_anger.columns = train_anger.columns\n",
    "\n",
    "test_anger[:10]"
   ]
  },
  {
   "cell_type": "code",
   "execution_count": 17,
   "metadata": {},
   "outputs": [],
   "source": [
    "test_fear = pd.read_csv('%s/%s' %(directory3,paths3[1]), delimiter='\\t',header=None)\n",
    "test_fear.columns = train_anger.columns\n",
    "\n",
    "test_joy = pd.read_csv('%s/%s' %(directory3,paths3[2]), delimiter='\\t',header=None) \n",
    "test_joy.columns = train_anger.columns\n",
    "\n",
    "test_sadness = pd.read_csv('%s/%s' %(directory3,paths3[3]), delimiter='\\t',header=None) \n",
    "test_sadness.columns = train_anger.columns"
   ]
  },
  {
   "cell_type": "code",
   "execution_count": 18,
   "metadata": {},
   "outputs": [],
   "source": [
    "# check if there are any duplicates(subset = all of the columns)\n",
    "\n",
    "assert test_fear.duplicated().sum() == 0\n",
    "assert test_anger.duplicated().sum() == 0\n",
    "assert test_joy.duplicated().sum() == 0\n",
    "assert test_sadness.duplicated().sum() == 0"
   ]
  },
  {
   "cell_type": "code",
   "execution_count": 19,
   "metadata": {},
   "outputs": [
    {
     "name": "stdout",
     "output_type": "stream",
     "text": [
      "<class 'pandas.core.frame.DataFrame'>\n",
      "RangeIndex: 760 entries, 0 to 759\n",
      "Data columns (total 4 columns):\n",
      " #   Column   Non-Null Count  Dtype  \n",
      "---  ------   --------------  -----  \n",
      " 0   SentID   760 non-null    int64  \n",
      " 1   Tweet    760 non-null    object \n",
      " 2   Emotion  760 non-null    object \n",
      " 3   Rating   760 non-null    float64\n",
      "dtypes: float64(1), int64(1), object(2)\n",
      "memory usage: 23.9+ KB\n",
      "<class 'pandas.core.frame.DataFrame'>\n",
      "RangeIndex: 995 entries, 0 to 994\n",
      "Data columns (total 4 columns):\n",
      " #   Column   Non-Null Count  Dtype  \n",
      "---  ------   --------------  -----  \n",
      " 0   SentID   995 non-null    int64  \n",
      " 1   Tweet    995 non-null    object \n",
      " 2   Emotion  995 non-null    object \n",
      " 3   Rating   995 non-null    float64\n",
      "dtypes: float64(1), int64(1), object(2)\n",
      "memory usage: 31.2+ KB\n",
      "<class 'pandas.core.frame.DataFrame'>\n",
      "RangeIndex: 714 entries, 0 to 713\n",
      "Data columns (total 4 columns):\n",
      " #   Column   Non-Null Count  Dtype  \n",
      "---  ------   --------------  -----  \n",
      " 0   SentID   714 non-null    int64  \n",
      " 1   Tweet    714 non-null    object \n",
      " 2   Emotion  714 non-null    object \n",
      " 3   Rating   714 non-null    float64\n",
      "dtypes: float64(1), int64(1), object(2)\n",
      "memory usage: 22.4+ KB\n",
      "<class 'pandas.core.frame.DataFrame'>\n",
      "RangeIndex: 673 entries, 0 to 672\n",
      "Data columns (total 4 columns):\n",
      " #   Column   Non-Null Count  Dtype  \n",
      "---  ------   --------------  -----  \n",
      " 0   SentID   673 non-null    int64  \n",
      " 1   Tweet    673 non-null    object \n",
      " 2   Emotion  673 non-null    object \n",
      " 3   Rating   673 non-null    float64\n",
      "dtypes: float64(1), int64(1), object(2)\n",
      "memory usage: 21.2+ KB\n",
      "None None None None\n"
     ]
    }
   ],
   "source": [
    "# checking missing data & len(train),len(test)\n",
    "print(test_anger.info(), test_fear.info(), test_joy.info(), test_sadness.info())"
   ]
  },
  {
   "cell_type": "code",
   "execution_count": 20,
   "metadata": {
    "scrolled": true
   },
   "outputs": [
    {
     "name": "stdout",
     "output_type": "stream",
     "text": [
      "             SentID      Rating\n",
      "count    760.000000  760.000000\n",
      "mean   11320.500000    0.502149\n",
      "std      219.537392    0.171886\n",
      "min    10941.000000    0.032000\n",
      "25%    11130.750000    0.375000\n",
      "50%    11320.500000    0.496000\n",
      "75%    11510.250000    0.625000\n",
      "max    11700.000000    0.976000 \n",
      "             SentID     Rating\n",
      "count    995.00000  995.00000\n",
      "mean   21754.00000    0.50247\n",
      "std      287.37606    0.20094\n",
      "min    21257.00000    0.06200\n",
      "25%    21505.50000    0.35400\n",
      "50%    21754.00000    0.50000\n",
      "75%    22002.50000    0.64600\n",
      "max    22251.00000    1.00000 \n",
      "              SentID      Rating\n",
      "count    714.000000  714.000000\n",
      "mean   31258.500000    0.508958\n",
      "std      206.258333    0.217295\n",
      "min    30902.000000    0.000000\n",
      "25%    31080.250000    0.340000\n",
      "50%    31258.500000    0.500000\n",
      "75%    31436.750000    0.673000\n",
      "max    31615.000000    0.980000 \n",
      "             SentID      Rating\n",
      "count    673.00000  673.000000\n",
      "mean   41196.00000    0.511272\n",
      "std      194.42265    0.202737\n",
      "min    40860.00000    0.083000\n",
      "25%    41028.00000    0.354000\n",
      "50%    41196.00000    0.500000\n",
      "75%    41364.00000    0.667000\n",
      "max    41532.00000    1.000000\n"
     ]
    }
   ],
   "source": [
    "print(test_anger.describe(), \"\\n\", test_fear.describe(), \"\\n\", test_joy.describe(), \"\\n\", test_sadness.describe() )"
   ]
  },
  {
   "cell_type": "code",
   "execution_count": 21,
   "metadata": {},
   "outputs": [
    {
     "data": {
      "image/png": "[encoded data removed]",
      "text/plain": [
       "<Figure size 432x288 with 1 Axes>"
      ]
     },
     "metadata": {
      "needs_background": "light"
     },
     "output_type": "display_data"
    }
   ],
   "source": [
    "# check the counts of observations in each categorical bin using bars (to see if we need data balance.)\n",
    "d_test = [test_anger.shape[0], test_fear.shape[0], test_joy.shape[0], test_sadness.shape[0]]\n",
    "labels= [\"anger\", \"fear\", \"joy\", \"sadness\"]\n",
    "plt.bar(labels, d_test,tick_label=labels)\n",
    "plt.show()"
   ]
  },
  {
   "cell_type": "code",
   "execution_count": 22,
   "metadata": {},
   "outputs": [
    {
     "data": {
      "text/html": [
       "<div>\n",
       "<style scoped>\n",
       "    .dataframe tbody tr th:only-of-type {\n",
       "        vertical-align: middle;\n",
       "    }\n",
       "\n",
       "    .dataframe tbody tr th {\n",
       "        vertical-align: top;\n",
       "    }\n",
       "\n",
       "    .dataframe thead th {\n",
       "        text-align: right;\n",
       "    }\n",
       "</style>\n",
       "<table border=\"1\" class=\"dataframe\">\n",
       "  <thead>\n",
       "    <tr style=\"text-align: right;\">\n",
       "      <th></th>\n",
       "      <th>Train</th>\n",
       "      <th>Dev.</th>\n",
       "      <th>Test</th>\n",
       "      <th>All</th>\n",
       "    </tr>\n",
       "  </thead>\n",
       "  <tbody>\n",
       "    <tr>\n",
       "      <th>anger</th>\n",
       "      <td>857</td>\n",
       "      <td>84</td>\n",
       "      <td>760</td>\n",
       "      <td>1701</td>\n",
       "    </tr>\n",
       "    <tr>\n",
       "      <th>fear</th>\n",
       "      <td>1147</td>\n",
       "      <td>110</td>\n",
       "      <td>995</td>\n",
       "      <td>2252</td>\n",
       "    </tr>\n",
       "    <tr>\n",
       "      <th>joy</th>\n",
       "      <td>823</td>\n",
       "      <td>79</td>\n",
       "      <td>714</td>\n",
       "      <td>1616</td>\n",
       "    </tr>\n",
       "    <tr>\n",
       "      <th>sadness</th>\n",
       "      <td>786</td>\n",
       "      <td>74</td>\n",
       "      <td>673</td>\n",
       "      <td>1533</td>\n",
       "    </tr>\n",
       "    <tr>\n",
       "      <th>All</th>\n",
       "      <td>3613</td>\n",
       "      <td>347</td>\n",
       "      <td>3142</td>\n",
       "      <td>7102</td>\n",
       "    </tr>\n",
       "  </tbody>\n",
       "</table>\n",
       "</div>"
      ],
      "text/plain": [
       "         Train  Dev.  Test   All\n",
       "anger      857    84   760  1701\n",
       "fear      1147   110   995  2252\n",
       "joy        823    79   714  1616\n",
       "sadness    786    74   673  1533\n",
       "All       3613   347  3142  7102"
      ]
     },
     "execution_count": 22,
     "metadata": {},
     "output_type": "execute_result"
    }
   ],
   "source": [
    "# show the number of instances in the Tweet Emotion Intensity dataset.\n",
    "\n",
    "Table_1 = pd.DataFrame(np.array([(d_train), (d_dev), (d_test)])).T\n",
    "Table_1.columns = ['Train', 'Dev.', 'Test']\n",
    "Table_1.index = ['anger', 'fear', 'joy', 'sadness']\n",
    "Table_1['All'] = Table_1.apply(lambda x: x.sum(), axis=1)\n",
    "Table_1.loc['All'] = Table_1.apply(lambda x: x.sum())\n",
    "\n",
    "Table_1"
   ]
  },
  {
   "cell_type": "markdown",
   "metadata": {},
   "source": [
    "# (2) Define Text Data Cleaning Process"
   ]
  },
  {
   "cell_type": "code",
   "execution_count": 23,
   "metadata": {},
   "outputs": [],
   "source": [
    "import string\n",
    "import re\n",
    "\n",
    "from nltk.corpus import stopwords\n",
    "\n",
    "import wordsegment as ws # $ pip install wordsegment    \n",
    "ws.load()     \n",
    "\n",
    "import emoji  # $ pip install emoji\n",
    "\n",
    "# As the glove model contains many words made with grammatical role, tense ,or derivational morphology,\n",
    "# we do not need WordNetLemmatizer or SnowballStemmer here."
   ]
  },
  {
   "cell_type": "code",
   "execution_count": 24,
   "metadata": {},
   "outputs": [],
   "source": [
    "def normalize_text(text):\n",
    "     # replace emoji to word\n",
    "    text = emoji.demojize(text)\n",
    "    \n",
    "    # remove characters outside the ascii code 128\n",
    "    text = ''.join([w if ord(w)<128 else ' ' for w in text])\n",
    "    \n",
    "    # replace '--' with a space\n",
    "    text = text.replace('--',' ')\n",
    "    \n",
    "    # remove any newline characters\n",
    "    text = text.replace('\\n',' ')\n",
    "    \n",
    "    # tweets mentions user using '@' followed by username. Replace all those with <user> to be usable for Glove\n",
    "    text = re.sub('@[^ ]+','<user>',text)\n",
    "    \n",
    "    # Replace all URLs with <url> to be usable for Glove\n",
    "    text = re.sub(r'\\d+','<number>',text)\n",
    "   \n",
    "    # Replace all numbers with <number> to be usable for Glove\n",
    "    text = re.sub(r'http\\S+','<url>',text)\n",
    "    \n",
    "    # turn some abbreviations into a whold word\n",
    "    text = re.sub(r\"\\'s\", \"\", text)\n",
    "    text = re.sub(r\"\\'m\", \" am\", text)\n",
    "    text = re.sub(r\"\\'ve\", \" have\", text)\n",
    "    text = re.sub(r\"can\\'t\", \"can not\", text)\n",
    "    text = re.sub(r\"won\\'t\", \"will not\", text)\n",
    "    text = re.sub(r\"n\\'t\", \" not\", text)\n",
    "    text = re.sub(r\"\\'re\", \" are\", text)\n",
    "    text = re.sub(r\"\\'d\", \" would\", text)\n",
    "    text = re.sub(r\"\\'ll\", \" will\", text)\n",
    "    text = re.sub(r\"fu\\*k\", \" fuck\", text)\n",
    "    text = re.sub(r\"f\\*c+\", \"fuck\", text)\n",
    "    text = text.replace(\"wtf\", \"what the fuck\")\n",
    "    \n",
    "    # prepare spaces between punctuation and words\n",
    "    text1 = text.split('...')\n",
    "    for i in range(len(text1)):\n",
    "        text1[i] = text1[i].replace('/',' / ').replace('\\\\',' \\ ').replace(',',' , ').replace('.',' . ').replace('?',' ? ').replace('!',' ! ').replace(\"'\",\" ' \").replace(':',' : ').replace(';',' ; ').replace('-',' - ').replace('(',' ( ').replace(')',' ) ').replace('[',' [ ').replace(']',' ] ').replace('&',' & ').replace('*',' * ').replace('{',' { ').replace('}',' } ').replace('-',' - ').replace('`',' ` ').replace('\"',' \" ').replace('>','> ').replace('<',' <')\n",
    "    text1 = ' '.join(text1)\n",
    "    \n",
    "    # split into tokens by white space\n",
    "    tokens = text1.split()\n",
    "    \n",
    "    return tokens\n",
    "\n",
    "def clean_text(text):\n",
    "   \n",
    "    tokens = normalize_text(text)\n",
    "    \n",
    "    new_tokens1 = []\n",
    "    for w in tokens:\n",
    "        if w == \"<user>\":\n",
    "            w = w\n",
    "        elif w == \"<url>\":\n",
    "            w = w\n",
    "        elif w == \"<number>\":\n",
    "            w = w\n",
    "        else:\n",
    "            # prepare regex for char filtering: !\"#$%&'()*+, -./:;<=>?@[\\]^_`{|}~\n",
    "            re_punc = re.compile('[%s]' %re.escape(string.punctuation))\n",
    "            # remove punctuation from each word\n",
    "            w = re_punc.sub('', w)\n",
    "    \n",
    "            # remove remaining tokens that are not alphabetic\n",
    "            if w.isalpha():\n",
    "                w = w\n",
    "        new_tokens1.append(w) \n",
    "        \n",
    "    # filter out stop words\n",
    "    stop_words = set(stopwords.words('english'))\n",
    "    tokens = [w for w in new_tokens1 if not w in stop_words]\n",
    "    \n",
    "    new_tokens2 = []\n",
    "    for w in tokens:\n",
    "        if w == \"<user>\":\n",
    "            w = w\n",
    "        elif w == \"<url>\":\n",
    "            w = w\n",
    "        elif w == \"<number>\":\n",
    "            w = w\n",
    "        else:\n",
    "            # word segment will convert the hashtag based joined words, for example, it will segment #iamthebest to ['i','am','the','best']\n",
    "            w = ' '.join(ws.segment(w)) \n",
    "        new_tokens2.append(w)\n",
    "        \n",
    "    \n",
    "    # make lower case\n",
    "    tokens = [word.lower() for word in new_tokens2]\n",
    "    \n",
    "    \n",
    "    clean_text = ' '.join(tokens)\n",
    "    tokens = clean_text.split()\n",
    "    \n",
    "   # filter out short tokens\n",
    "\n",
    "    tokens = [word for word in tokens if len(word) > 1]\n",
    "    \n",
    "    return ' '.join(tokens)"
   ]
  },
  {
   "cell_type": "markdown",
   "metadata": {},
   "source": [
    "# 2. Text Data Preparation（Feature Extraction)"
   ]
  },
  {
   "cell_type": "markdown",
   "metadata": {},
   "source": [
    "# (1) Load Lexicon Feature Vectors"
   ]
  },
  {
   "cell_type": "code",
   "execution_count": 25,
   "metadata": {},
   "outputs": [],
   "source": [
    "import numpy as np"
   ]
  },
  {
   "cell_type": "code",
   "execution_count": 26,
   "metadata": {},
   "outputs": [],
   "source": [
    "with open('files/lexicons/NRC-Emotion-Intensity-Lexicon-v1.txt','r') as r:\n",
    "    lines = r.readlines()\n",
    "# open file\n",
    "with open(\"files/lexicons/Lexicon.txt\", \"w\") as w:\n",
    "    for l in lines:\n",
    "        emotion = l.split()[1]\n",
    "        if 'anger' == emotion or 'joy' == emotion or 'fear' == emotion or 'sadness' == emotion:\n",
    "            w.write(l)"
   ]
  },
  {
   "cell_type": "code",
   "execution_count": 27,
   "metadata": {},
   "outputs": [],
   "source": [
    "def loadLexiconModel(LexiconFile):\n",
    "    print(\"Loading Lexicon Model\")\n",
    "    f = open(LexiconFile,'r', encoding = 'UTF-8')\n",
    "    model = {}\n",
    "    num = 1\n",
    "    for line in f:\n",
    "        try:\n",
    "            splitLine = line.split()\n",
    "            word = splitLine[0]\n",
    "            coefs = np.asarray(splitLine[2:], dtype = 'float32')\n",
    "            model[word] = coefs\n",
    "            num += 1\n",
    "        except Exception as e:\n",
    "            print(\"Failed at line \" + str(num))\n",
    "    print(\"Done. Found %s word vectors.\" %len(model),\" words loaded!\")\n",
    "    return model"
   ]
  },
  {
   "cell_type": "code",
   "execution_count": 28,
   "metadata": {},
   "outputs": [
    {
     "name": "stdout",
     "output_type": "stream",
     "text": [
      "Loading Lexicon Model\n",
      "Done. Found 4192 word vectors.  words loaded!\n"
     ]
    }
   ],
   "source": [
    "# To download the lexicon model: http://saifmohammad.com/WebPages/lexicons.html  \n",
    "# choose 1b. NRC Emotion Intensity Lexicon (aka Affect Intensity Lexicon), created using Best-Worst Scaling.\n",
    "\n",
    "\n",
    "word_vector_path = \"files/lexicons/\"\n",
    "model_path = word_vector_path + \"Lexicon.txt\"\n",
    "\n",
    "model_le = loadLexiconModel(model_path)\n"
   ]
  },
  {
   "cell_type": "code",
   "execution_count": 29,
   "metadata": {},
   "outputs": [
    {
     "name": "stdout",
     "output_type": "stream",
     "text": [
      "[0.406]\n"
     ]
    }
   ],
   "source": [
    "# do a sanity check\n",
    "print(model_le['fury'])"
   ]
  },
  {
   "cell_type": "markdown",
   "metadata": {},
   "source": [
    "# (2) Load Glove Feature Vectors"
   ]
  },
  {
   "cell_type": "code",
   "execution_count": 30,
   "metadata": {},
   "outputs": [],
   "source": [
    "def loadGloveModel(gloveFile):\n",
    "    print(\"Loading Glove Model\")\n",
    "    f = open(gloveFile,'r', encoding = 'UTF-8')\n",
    "    model = {}\n",
    "    num = 1\n",
    "    for line in f:\n",
    "        try:\n",
    "            splitLine = line.split()\n",
    "            word = splitLine[0]\n",
    "            coefs = np.asarray(splitLine[1:], dtype = 'float32')\n",
    "            model[word] = coefs\n",
    "            num += 1\n",
    "        except Exception as e:\n",
    "            print(\"Failed at line \" + str(num))\n",
    "    print(\"Done. Found %s word vectors.\" %len(model),\" words loaded!\")\n",
    "    return model"
   ]
  },
  {
   "cell_type": "code",
   "execution_count": 31,
   "metadata": {},
   "outputs": [
    {
     "name": "stdout",
     "output_type": "stream",
     "text": [
      "Loading Glove Model\n",
      "Done. Found 1193514 word vectors.  words loaded!\n"
     ]
    }
   ],
   "source": [
    "# To download the pretrained glove model (2B tweets, 27B tokens) - [https://nlp.stanford.edu/projects/glove/   glove.twitter.27B.zip]\n",
    "# choose glove.twitter.27B.100d.txt from glove.twitter.27B.zip. [100-dimension vectors]\n",
    "\n",
    "word_vector_path = \"files/wv_models/\"\n",
    "wv_model_path = word_vector_path + \"glove.twitter.27B.100d.txt\"\n",
    "\n",
    "wv_model_g = loadGloveModel(wv_model_path)"
   ]
  },
  {
   "cell_type": "code",
   "execution_count": null,
   "metadata": {},
   "outputs": [],
   "source": []
  },
  {
   "cell_type": "code",
   "execution_count": null,
   "metadata": {},
   "outputs": [],
   "source": []
  },
  {
   "cell_type": "code",
   "execution_count": null,
   "metadata": {},
   "outputs": [],
   "source": []
  },
  {
   "cell_type": "markdown",
   "metadata": {},
   "source": [
    "# (3) Extract Feature with Glove"
   ]
  },
  {
   "cell_type": "markdown",
   "metadata": {},
   "source": [
    "# 1) Clean Text Data"
   ]
  },
  {
   "cell_type": "code",
   "execution_count": 32,
   "metadata": {},
   "outputs": [],
   "source": [
    "train_anger['Tweet'] = train_anger['Tweet'].apply(clean_text)\n",
    "train_fear['Tweet'] = train_fear['Tweet'].apply(clean_text)\n",
    "train_joy['Tweet'] = train_joy['Tweet'].apply(clean_text)\n",
    "train_sadness['Tweet'] = train_sadness['Tweet'].apply(clean_text)\n",
    "\n",
    "dev_anger['Tweet'] = dev_anger['Tweet'].apply(clean_text)\n",
    "dev_fear['Tweet'] = dev_fear['Tweet'].apply(clean_text)\n",
    "dev_joy['Tweet'] = dev_joy['Tweet'].apply(clean_text)\n",
    "dev_sadness['Tweet'] = dev_sadness['Tweet'].apply(clean_text)\n",
    "\n",
    "test_anger['Tweet'] = test_anger['Tweet'].apply(clean_text)\n",
    "test_fear['Tweet'] = test_fear['Tweet'].apply(clean_text)\n",
    "test_joy['Tweet'] = test_joy['Tweet'].apply(clean_text)\n",
    "test_sadness['Tweet'] = test_sadness['Tweet'].apply(clean_text)"
   ]
  },
  {
   "cell_type": "code",
   "execution_count": 33,
   "metadata": {},
   "outputs": [
    {
     "data": {
      "text/html": [
       "<div>\n",
       "<style scoped>\n",
       "    .dataframe tbody tr th:only-of-type {\n",
       "        vertical-align: middle;\n",
       "    }\n",
       "\n",
       "    .dataframe tbody tr th {\n",
       "        vertical-align: top;\n",
       "    }\n",
       "\n",
       "    .dataframe thead th {\n",
       "        text-align: right;\n",
       "    }\n",
       "</style>\n",
       "<table border=\"1\" class=\"dataframe\">\n",
       "  <thead>\n",
       "    <tr style=\"text-align: right;\">\n",
       "      <th></th>\n",
       "      <th>SentID</th>\n",
       "      <th>Tweet</th>\n",
       "      <th>Emotion</th>\n",
       "      <th>Rating</th>\n",
       "    </tr>\n",
       "  </thead>\n",
       "  <tbody>\n",
       "    <tr>\n",
       "      <th>0</th>\n",
       "      <td>10000</td>\n",
       "      <td>how fuck who heck moved fridge knock landlord ...</td>\n",
       "      <td>anger</td>\n",
       "      <td>0.938</td>\n",
       "    </tr>\n",
       "    <tr>\n",
       "      <th>1</th>\n",
       "      <td>10001</td>\n",
       "      <td>so indian uber driver called someone word if m...</td>\n",
       "      <td>anger</td>\n",
       "      <td>0.896</td>\n",
       "    </tr>\n",
       "    <tr>\n",
       "      <th>2</th>\n",
       "      <td>10002</td>\n",
       "      <td>&lt;user&gt; asked parcel delivered pick store addre...</td>\n",
       "      <td>anger</td>\n",
       "      <td>0.896</td>\n",
       "    </tr>\n",
       "    <tr>\n",
       "      <th>3</th>\n",
       "      <td>10003</td>\n",
       "      <td>ef whichever butt wipe pulled fire alarm davis...</td>\n",
       "      <td>anger</td>\n",
       "      <td>0.896</td>\n",
       "    </tr>\n",
       "    <tr>\n",
       "      <th>4</th>\n",
       "      <td>10004</td>\n",
       "      <td>do join &lt;user&gt; put phone talk rude taking mone...</td>\n",
       "      <td>anger</td>\n",
       "      <td>0.896</td>\n",
       "    </tr>\n",
       "    <tr>\n",
       "      <th>5</th>\n",
       "      <td>10005</td>\n",
       "      <td>my blood boiling</td>\n",
       "      <td>anger</td>\n",
       "      <td>0.875</td>\n",
       "    </tr>\n",
       "    <tr>\n",
       "      <th>6</th>\n",
       "      <td>10006</td>\n",
       "      <td>when still got whole season wentworth watch st...</td>\n",
       "      <td>anger</td>\n",
       "      <td>0.875</td>\n",
       "    </tr>\n",
       "    <tr>\n",
       "      <th>7</th>\n",
       "      <td>10007</td>\n",
       "      <td>&lt;user&gt; tracking show equipment delivered why s...</td>\n",
       "      <td>anger</td>\n",
       "      <td>0.875</td>\n",
       "    </tr>\n",
       "    <tr>\n",
       "      <th>8</th>\n",
       "      <td>10008</td>\n",
       "      <td>&lt;user&gt; legit furious people fucking idiots</td>\n",
       "      <td>anger</td>\n",
       "      <td>0.875</td>\n",
       "    </tr>\n",
       "    <tr>\n",
       "      <th>9</th>\n",
       "      <td>10009</td>\n",
       "      <td>how suppose work wtf dude thanks pissing</td>\n",
       "      <td>anger</td>\n",
       "      <td>0.875</td>\n",
       "    </tr>\n",
       "    <tr>\n",
       "      <th>10</th>\n",
       "      <td>10010</td>\n",
       "      <td>im mad power rangers im incensed im furious</td>\n",
       "      <td>anger</td>\n",
       "      <td>0.667</td>\n",
       "    </tr>\n",
       "    <tr>\n",
       "      <th>11</th>\n",
       "      <td>10011</td>\n",
       "      <td>wont use using &lt;user&gt; &lt;user&gt; these guys cant g...</td>\n",
       "      <td>anger</td>\n",
       "      <td>0.854</td>\n",
       "    </tr>\n",
       "    <tr>\n",
       "      <th>12</th>\n",
       "      <td>10012</td>\n",
       "      <td>bitches aggravate like inspires biggest cunt k...</td>\n",
       "      <td>anger</td>\n",
       "      <td>0.854</td>\n",
       "    </tr>\n",
       "    <tr>\n",
       "      <th>13</th>\n",
       "      <td>10013</td>\n",
       "      <td>why &lt;user&gt; come glasgow night working fucking ...</td>\n",
       "      <td>anger</td>\n",
       "      <td>0.938</td>\n",
       "    </tr>\n",
       "    <tr>\n",
       "      <th>14</th>\n",
       "      <td>10014</td>\n",
       "      <td>fuking fuming face with steam from nose</td>\n",
       "      <td>anger</td>\n",
       "      <td>0.854</td>\n",
       "    </tr>\n",
       "    <tr>\n",
       "      <th>15</th>\n",
       "      <td>10015</td>\n",
       "      <td>zero help &lt;user&gt; customer service just pushing...</td>\n",
       "      <td>anger</td>\n",
       "      <td>0.854</td>\n",
       "    </tr>\n",
       "    <tr>\n",
       "      <th>16</th>\n",
       "      <td>10016</td>\n",
       "      <td>&lt;user&gt; mention gra guy stops let &lt;number&gt; ppl ...</td>\n",
       "      <td>anger</td>\n",
       "      <td>0.854</td>\n",
       "    </tr>\n",
       "    <tr>\n",
       "      <th>17</th>\n",
       "      <td>10017</td>\n",
       "      <td>hate lawn mower if soul would condemn fiery pi...</td>\n",
       "      <td>anger</td>\n",
       "      <td>0.833</td>\n",
       "    </tr>\n",
       "    <tr>\n",
       "      <th>18</th>\n",
       "      <td>10018</td>\n",
       "      <td>people offended kendall ends photo shoot like ...</td>\n",
       "      <td>anger</td>\n",
       "      <td>0.833</td>\n",
       "    </tr>\n",
       "    <tr>\n",
       "      <th>19</th>\n",
       "      <td>10019</td>\n",
       "      <td>block everyone everywhere posting storm think ...</td>\n",
       "      <td>anger</td>\n",
       "      <td>0.812</td>\n",
       "    </tr>\n",
       "    <tr>\n",
       "      <th>20</th>\n",
       "      <td>10020</td>\n",
       "      <td>making buddy cry bitch wait revenge hugging fa...</td>\n",
       "      <td>anger</td>\n",
       "      <td>0.812</td>\n",
       "    </tr>\n",
       "    <tr>\n",
       "      <th>21</th>\n",
       "      <td>10021</td>\n",
       "      <td>be you tell true blooded hoop junkie switch fu...</td>\n",
       "      <td>anger</td>\n",
       "      <td>0.891</td>\n",
       "    </tr>\n",
       "    <tr>\n",
       "      <th>22</th>\n",
       "      <td>10022</td>\n",
       "      <td>got no response rate customer amazon disappoin...</td>\n",
       "      <td>anger</td>\n",
       "      <td>0.812</td>\n",
       "    </tr>\n",
       "    <tr>\n",
       "      <th>23</th>\n",
       "      <td>10023</td>\n",
       "      <td>tasers immobilize taser someone fuck need shoo...</td>\n",
       "      <td>anger</td>\n",
       "      <td>0.812</td>\n",
       "    </tr>\n",
       "    <tr>\n",
       "      <th>24</th>\n",
       "      <td>10024</td>\n",
       "      <td>&lt;user&gt; &lt;user&gt; &lt;user&gt; the way blood boiling lit...</td>\n",
       "      <td>anger</td>\n",
       "      <td>0.792</td>\n",
       "    </tr>\n",
       "    <tr>\n",
       "      <th>25</th>\n",
       "      <td>10025</td>\n",
       "      <td>actually fuming nothing wear saturday</td>\n",
       "      <td>anger</td>\n",
       "      <td>0.792</td>\n",
       "    </tr>\n",
       "    <tr>\n",
       "      <th>26</th>\n",
       "      <td>10026</td>\n",
       "      <td>&lt;user&gt; straight people even arse straight guys...</td>\n",
       "      <td>anger</td>\n",
       "      <td>0.792</td>\n",
       "    </tr>\n",
       "    <tr>\n",
       "      <th>27</th>\n",
       "      <td>10027</td>\n",
       "      <td>bloody parking ticket unam used face money wit...</td>\n",
       "      <td>anger</td>\n",
       "      <td>0.792</td>\n",
       "    </tr>\n",
       "    <tr>\n",
       "      <th>28</th>\n",
       "      <td>10028</td>\n",
       "      <td>you ever find people around really irritate so...</td>\n",
       "      <td>anger</td>\n",
       "      <td>0.792</td>\n",
       "    </tr>\n",
       "    <tr>\n",
       "      <th>29</th>\n",
       "      <td>10029</td>\n",
       "      <td>get angry people know stop sign francis foster...</td>\n",
       "      <td>anger</td>\n",
       "      <td>0.792</td>\n",
       "    </tr>\n",
       "    <tr>\n",
       "      <th>30</th>\n",
       "      <td>10030</td>\n",
       "      <td>this fuck boiling inside gonna good let</td>\n",
       "      <td>anger</td>\n",
       "      <td>0.792</td>\n",
       "    </tr>\n",
       "    <tr>\n",
       "      <th>31</th>\n",
       "      <td>10031</td>\n",
       "      <td>&lt;user&gt; &lt;user&gt; wow my bill &lt;number&gt; &lt;number&gt; ha...</td>\n",
       "      <td>anger</td>\n",
       "      <td>0.792</td>\n",
       "    </tr>\n",
       "    <tr>\n",
       "      <th>32</th>\n",
       "      <td>10032</td>\n",
       "      <td>blame whole season natalie the season would di...</td>\n",
       "      <td>anger</td>\n",
       "      <td>0.792</td>\n",
       "    </tr>\n",
       "    <tr>\n",
       "      <th>33</th>\n",
       "      <td>10033</td>\n",
       "      <td>since update &lt;user&gt; loses power nearly &lt;number...</td>\n",
       "      <td>anger</td>\n",
       "      <td>0.792</td>\n",
       "    </tr>\n",
       "    <tr>\n",
       "      <th>34</th>\n",
       "      <td>10034</td>\n",
       "      <td>&lt;user&gt; fly fit rage fair</td>\n",
       "      <td>anger</td>\n",
       "      <td>0.792</td>\n",
       "    </tr>\n",
       "    <tr>\n",
       "      <th>35</th>\n",
       "      <td>10035</td>\n",
       "      <td>unbelievable takes &lt;number&gt; minutes get &lt;user&gt;...</td>\n",
       "      <td>anger</td>\n",
       "      <td>0.792</td>\n",
       "    </tr>\n",
       "    <tr>\n",
       "      <th>36</th>\n",
       "      <td>10036</td>\n",
       "      <td>&lt;user&gt; &lt;user&gt; we blaming &lt;number&gt; fucking idio...</td>\n",
       "      <td>anger</td>\n",
       "      <td>0.792</td>\n",
       "    </tr>\n",
       "    <tr>\n",
       "      <th>37</th>\n",
       "      <td>10037</td>\n",
       "      <td>&lt;user&gt; people infuriate</td>\n",
       "      <td>anger</td>\n",
       "      <td>0.792</td>\n",
       "    </tr>\n",
       "    <tr>\n",
       "      <th>38</th>\n",
       "      <td>10038</td>\n",
       "      <td>&lt;user&gt; mine party decide party slowly transfor...</td>\n",
       "      <td>anger</td>\n",
       "      <td>0.792</td>\n",
       "    </tr>\n",
       "    <tr>\n",
       "      <th>39</th>\n",
       "      <td>10039</td>\n",
       "      <td>so angry &lt;user&gt; order &lt;number&gt; months ago plac...</td>\n",
       "      <td>anger</td>\n",
       "      <td>0.771</td>\n",
       "    </tr>\n",
       "    <tr>\n",
       "      <th>40</th>\n",
       "      <td>10040</td>\n",
       "      <td>still log fucking snap chat snap chat snap</td>\n",
       "      <td>anger</td>\n",
       "      <td>0.900</td>\n",
       "    </tr>\n",
       "    <tr>\n",
       "      <th>41</th>\n",
       "      <td>10041</td>\n",
       "      <td>&lt;user&gt; sam yes not helpful we need sorting asa...</td>\n",
       "      <td>anger</td>\n",
       "      <td>0.771</td>\n",
       "    </tr>\n",
       "    <tr>\n",
       "      <th>42</th>\n",
       "      <td>10042</td>\n",
       "      <td>someone let snakes in my house bet it &lt;user&gt; k...</td>\n",
       "      <td>anger</td>\n",
       "      <td>0.771</td>\n",
       "    </tr>\n",
       "    <tr>\n",
       "      <th>43</th>\n",
       "      <td>10043</td>\n",
       "      <td>ef whichever butt wipe pulled fire alarm davis...</td>\n",
       "      <td>anger</td>\n",
       "      <td>0.771</td>\n",
       "    </tr>\n",
       "    <tr>\n",
       "      <th>44</th>\n",
       "      <td>10044</td>\n",
       "      <td>why &lt;user&gt; come glasgow night working fucking ...</td>\n",
       "      <td>anger</td>\n",
       "      <td>0.733</td>\n",
       "    </tr>\n",
       "    <tr>\n",
       "      <th>45</th>\n",
       "      <td>10045</td>\n",
       "      <td>feel furious</td>\n",
       "      <td>anger</td>\n",
       "      <td>0.771</td>\n",
       "    </tr>\n",
       "    <tr>\n",
       "      <th>46</th>\n",
       "      <td>10046</td>\n",
       "      <td>some mexican ladies irritate fuck outta have l...</td>\n",
       "      <td>anger</td>\n",
       "      <td>0.771</td>\n",
       "    </tr>\n",
       "    <tr>\n",
       "      <th>47</th>\n",
       "      <td>10047</td>\n",
       "      <td>still log fucking snap chat snap chat</td>\n",
       "      <td>anger</td>\n",
       "      <td>0.771</td>\n",
       "    </tr>\n",
       "    <tr>\n",
       "      <th>48</th>\n",
       "      <td>10048</td>\n",
       "      <td>blame whole season natalie the season would di...</td>\n",
       "      <td>anger</td>\n",
       "      <td>0.771</td>\n",
       "    </tr>\n",
       "    <tr>\n",
       "      <th>49</th>\n",
       "      <td>10049</td>\n",
       "      <td>people irritate mf soul</td>\n",
       "      <td>anger</td>\n",
       "      <td>0.771</td>\n",
       "    </tr>\n",
       "    <tr>\n",
       "      <th>50</th>\n",
       "      <td>10050</td>\n",
       "      <td>im angry face with tears of joy upside down face</td>\n",
       "      <td>anger</td>\n",
       "      <td>0.750</td>\n",
       "    </tr>\n",
       "    <tr>\n",
       "      <th>51</th>\n",
       "      <td>10051</td>\n",
       "      <td>people fuckin irritate</td>\n",
       "      <td>anger</td>\n",
       "      <td>0.750</td>\n",
       "    </tr>\n",
       "    <tr>\n",
       "      <th>52</th>\n",
       "      <td>10052</td>\n",
       "      <td>&lt;user&gt; cruel cruel man there will be blood rev...</td>\n",
       "      <td>anger</td>\n",
       "      <td>0.840</td>\n",
       "    </tr>\n",
       "    <tr>\n",
       "      <th>53</th>\n",
       "      <td>10053</td>\n",
       "      <td>that way ur angry literally feel ur blood boiling</td>\n",
       "      <td>anger</td>\n",
       "      <td>0.750</td>\n",
       "    </tr>\n",
       "    <tr>\n",
       "      <th>54</th>\n",
       "      <td>10054</td>\n",
       "      <td>&lt;user&gt; amount greedy mooching makes snarl</td>\n",
       "      <td>anger</td>\n",
       "      <td>0.750</td>\n",
       "    </tr>\n",
       "  </tbody>\n",
       "</table>\n",
       "</div>"
      ],
      "text/plain": [
       "    SentID                                              Tweet Emotion  Rating\n",
       "0    10000  how fuck who heck moved fridge knock landlord ...   anger   0.938\n",
       "1    10001  so indian uber driver called someone word if m...   anger   0.896\n",
       "2    10002  <user> asked parcel delivered pick store addre...   anger   0.896\n",
       "3    10003  ef whichever butt wipe pulled fire alarm davis...   anger   0.896\n",
       "4    10004  do join <user> put phone talk rude taking mone...   anger   0.896\n",
       "5    10005                                   my blood boiling   anger   0.875\n",
       "6    10006  when still got whole season wentworth watch st...   anger   0.875\n",
       "7    10007  <user> tracking show equipment delivered why s...   anger   0.875\n",
       "8    10008         <user> legit furious people fucking idiots   anger   0.875\n",
       "9    10009           how suppose work wtf dude thanks pissing   anger   0.875\n",
       "10   10010        im mad power rangers im incensed im furious   anger   0.667\n",
       "11   10011  wont use using <user> <user> these guys cant g...   anger   0.854\n",
       "12   10012  bitches aggravate like inspires biggest cunt k...   anger   0.854\n",
       "13   10013  why <user> come glasgow night working fucking ...   anger   0.938\n",
       "14   10014            fuking fuming face with steam from nose   anger   0.854\n",
       "15   10015  zero help <user> customer service just pushing...   anger   0.854\n",
       "16   10016  <user> mention gra guy stops let <number> ppl ...   anger   0.854\n",
       "17   10017  hate lawn mower if soul would condemn fiery pi...   anger   0.833\n",
       "18   10018  people offended kendall ends photo shoot like ...   anger   0.833\n",
       "19   10019  block everyone everywhere posting storm think ...   anger   0.812\n",
       "20   10020  making buddy cry bitch wait revenge hugging fa...   anger   0.812\n",
       "21   10021  be you tell true blooded hoop junkie switch fu...   anger   0.891\n",
       "22   10022  got no response rate customer amazon disappoin...   anger   0.812\n",
       "23   10023  tasers immobilize taser someone fuck need shoo...   anger   0.812\n",
       "24   10024  <user> <user> <user> the way blood boiling lit...   anger   0.792\n",
       "25   10025              actually fuming nothing wear saturday   anger   0.792\n",
       "26   10026  <user> straight people even arse straight guys...   anger   0.792\n",
       "27   10027  bloody parking ticket unam used face money wit...   anger   0.792\n",
       "28   10028  you ever find people around really irritate so...   anger   0.792\n",
       "29   10029  get angry people know stop sign francis foster...   anger   0.792\n",
       "30   10030            this fuck boiling inside gonna good let   anger   0.792\n",
       "31   10031  <user> <user> wow my bill <number> <number> ha...   anger   0.792\n",
       "32   10032  blame whole season natalie the season would di...   anger   0.792\n",
       "33   10033  since update <user> loses power nearly <number...   anger   0.792\n",
       "34   10034                           <user> fly fit rage fair   anger   0.792\n",
       "35   10035  unbelievable takes <number> minutes get <user>...   anger   0.792\n",
       "36   10036  <user> <user> we blaming <number> fucking idio...   anger   0.792\n",
       "37   10037                            <user> people infuriate   anger   0.792\n",
       "38   10038  <user> mine party decide party slowly transfor...   anger   0.792\n",
       "39   10039  so angry <user> order <number> months ago plac...   anger   0.771\n",
       "40   10040         still log fucking snap chat snap chat snap   anger   0.900\n",
       "41   10041  <user> sam yes not helpful we need sorting asa...   anger   0.771\n",
       "42   10042  someone let snakes in my house bet it <user> k...   anger   0.771\n",
       "43   10043  ef whichever butt wipe pulled fire alarm davis...   anger   0.771\n",
       "44   10044  why <user> come glasgow night working fucking ...   anger   0.733\n",
       "45   10045                                       feel furious   anger   0.771\n",
       "46   10046  some mexican ladies irritate fuck outta have l...   anger   0.771\n",
       "47   10047              still log fucking snap chat snap chat   anger   0.771\n",
       "48   10048  blame whole season natalie the season would di...   anger   0.771\n",
       "49   10049                            people irritate mf soul   anger   0.771\n",
       "50   10050   im angry face with tears of joy upside down face   anger   0.750\n",
       "51   10051                             people fuckin irritate   anger   0.750\n",
       "52   10052  <user> cruel cruel man there will be blood rev...   anger   0.840\n",
       "53   10053  that way ur angry literally feel ur blood boiling   anger   0.750\n",
       "54   10054          <user> amount greedy mooching makes snarl   anger   0.750"
      ]
     },
     "execution_count": 33,
     "metadata": {},
     "output_type": "execute_result"
    }
   ],
   "source": [
    "# do a sanity check\n",
    "train_anger[0:55]"
   ]
  },
  {
   "cell_type": "code",
   "execution_count": 34,
   "metadata": {},
   "outputs": [],
   "source": [
    "# show the distribution of text length (from below: there is no need to truncate any of texts)\n",
    "def show_text_len(train):\n",
    "    train[\"text_len\"] = train['Tweet'].map(lambda x: len(x.split()))\n",
    "    return train[\"text_len\"]"
   ]
  },
  {
   "cell_type": "code",
   "execution_count": 35,
   "metadata": {},
   "outputs": [
    {
     "data": {
      "text/plain": [
       "count    1147.000000\n",
       "mean       11.174368\n",
       "std         4.581159\n",
       "min         2.000000\n",
       "25%         8.000000\n",
       "50%        11.000000\n",
       "75%        15.000000\n",
       "max        28.000000\n",
       "Name: text_len, dtype: float64"
      ]
     },
     "execution_count": 35,
     "metadata": {},
     "output_type": "execute_result"
    }
   ],
   "source": [
    "show_text_len(train_fear).describe()"
   ]
  },
  {
   "cell_type": "code",
   "execution_count": 36,
   "metadata": {},
   "outputs": [
    {
     "data": {
      "text/plain": [
       "count    823.000000\n",
       "mean      10.946537\n",
       "std        4.613485\n",
       "min        1.000000\n",
       "25%        8.000000\n",
       "50%       11.000000\n",
       "75%       14.000000\n",
       "max       33.000000\n",
       "Name: text_len, dtype: float64"
      ]
     },
     "execution_count": 36,
     "metadata": {},
     "output_type": "execute_result"
    }
   ],
   "source": [
    "show_text_len(train_joy).describe()"
   ]
  },
  {
   "cell_type": "code",
   "execution_count": 37,
   "metadata": {},
   "outputs": [
    {
     "data": {
      "text/plain": [
       "count    786.000000\n",
       "mean      11.170483\n",
       "std        5.692005\n",
       "min        1.000000\n",
       "25%        7.000000\n",
       "50%       11.000000\n",
       "75%       14.000000\n",
       "max       79.000000\n",
       "Name: text_len, dtype: float64"
      ]
     },
     "execution_count": 37,
     "metadata": {},
     "output_type": "execute_result"
    }
   ],
   "source": [
    "show_text_len(train_sadness).describe()"
   ]
  },
  {
   "cell_type": "code",
   "execution_count": 38,
   "metadata": {},
   "outputs": [
    {
     "data": {
      "text/plain": [
       "count    84.000000\n",
       "mean     10.500000\n",
       "std       4.280806\n",
       "min       2.000000\n",
       "25%       6.750000\n",
       "50%      11.000000\n",
       "75%      13.000000\n",
       "max      21.000000\n",
       "Name: text_len, dtype: float64"
      ]
     },
     "execution_count": 38,
     "metadata": {},
     "output_type": "execute_result"
    }
   ],
   "source": [
    "show_text_len(dev_anger).describe()"
   ]
  },
  {
   "cell_type": "code",
   "execution_count": 39,
   "metadata": {},
   "outputs": [
    {
     "data": {
      "text/plain": [
       "count    110.000000\n",
       "mean      11.345455\n",
       "std        4.440093\n",
       "min        2.000000\n",
       "25%        8.000000\n",
       "50%       11.000000\n",
       "75%       14.750000\n",
       "max       24.000000\n",
       "Name: text_len, dtype: float64"
      ]
     },
     "execution_count": 39,
     "metadata": {},
     "output_type": "execute_result"
    }
   ],
   "source": [
    "show_text_len(dev_fear).describe()"
   ]
  },
  {
   "cell_type": "code",
   "execution_count": 40,
   "metadata": {},
   "outputs": [
    {
     "data": {
      "text/plain": [
       "count    79.000000\n",
       "mean     10.468354\n",
       "std       4.044101\n",
       "min       2.000000\n",
       "25%       8.000000\n",
       "50%      10.000000\n",
       "75%      14.000000\n",
       "max      23.000000\n",
       "Name: text_len, dtype: float64"
      ]
     },
     "execution_count": 40,
     "metadata": {},
     "output_type": "execute_result"
    }
   ],
   "source": [
    "show_text_len(dev_joy).describe()"
   ]
  },
  {
   "cell_type": "code",
   "execution_count": 41,
   "metadata": {},
   "outputs": [
    {
     "data": {
      "text/plain": [
       "count    74.000000\n",
       "mean     11.635135\n",
       "std       4.838698\n",
       "min       3.000000\n",
       "25%       8.000000\n",
       "50%      12.000000\n",
       "75%      14.750000\n",
       "max      30.000000\n",
       "Name: text_len, dtype: float64"
      ]
     },
     "execution_count": 41,
     "metadata": {},
     "output_type": "execute_result"
    }
   ],
   "source": [
    "show_text_len(dev_sadness).describe()"
   ]
  },
  {
   "cell_type": "code",
   "execution_count": 42,
   "metadata": {},
   "outputs": [
    {
     "data": {
      "text/plain": [
       "count    760.000000\n",
       "mean      11.240789\n",
       "std        4.980454\n",
       "min        1.000000\n",
       "25%        8.000000\n",
       "50%       11.000000\n",
       "75%       14.000000\n",
       "max       43.000000\n",
       "Name: text_len, dtype: float64"
      ]
     },
     "execution_count": 42,
     "metadata": {},
     "output_type": "execute_result"
    }
   ],
   "source": [
    "show_text_len(test_anger).describe()"
   ]
  },
  {
   "cell_type": "code",
   "execution_count": 43,
   "metadata": {},
   "outputs": [
    {
     "data": {
      "text/plain": [
       "count    995.000000\n",
       "mean      11.056281\n",
       "std        4.710839\n",
       "min        1.000000\n",
       "25%        8.000000\n",
       "50%       11.000000\n",
       "75%       14.000000\n",
       "max       38.000000\n",
       "Name: text_len, dtype: float64"
      ]
     },
     "execution_count": 43,
     "metadata": {},
     "output_type": "execute_result"
    }
   ],
   "source": [
    "show_text_len(test_fear).describe()"
   ]
  },
  {
   "cell_type": "code",
   "execution_count": 44,
   "metadata": {},
   "outputs": [
    {
     "data": {
      "text/plain": [
       "count    714.000000\n",
       "mean      11.145658\n",
       "std        5.262380\n",
       "min        2.000000\n",
       "25%        7.000000\n",
       "50%       11.000000\n",
       "75%       14.000000\n",
       "max       42.000000\n",
       "Name: text_len, dtype: float64"
      ]
     },
     "execution_count": 44,
     "metadata": {},
     "output_type": "execute_result"
    }
   ],
   "source": [
    "show_text_len(test_joy).describe()"
   ]
  },
  {
   "cell_type": "code",
   "execution_count": 45,
   "metadata": {},
   "outputs": [
    {
     "data": {
      "text/plain": [
       "count    673.000000\n",
       "mean      11.087667\n",
       "std        4.508891\n",
       "min        2.000000\n",
       "25%        8.000000\n",
       "50%       11.000000\n",
       "75%       14.000000\n",
       "max       27.000000\n",
       "Name: text_len, dtype: float64"
      ]
     },
     "execution_count": 45,
     "metadata": {},
     "output_type": "execute_result"
    }
   ],
   "source": [
    "show_text_len(test_sadness).describe()"
   ]
  },
  {
   "cell_type": "markdown",
   "metadata": {},
   "source": [
    "There is not any reviews' length = 0 after text cleaning"
   ]
  },
  {
   "cell_type": "code",
   "execution_count": 46,
   "metadata": {},
   "outputs": [],
   "source": [
    "train_anger_tweets = list(train_anger['Tweet'])\n",
    "train_anger_intensities = list(train_anger['Rating'])\n",
    "\n",
    "train_fear_tweets = list(train_fear['Tweet'])\n",
    "train_fear_intensities = list(train_fear['Rating'])\n",
    "\n",
    "train_sadness_tweets = list(train_sadness['Tweet'])\n",
    "train_sadness_intensities = list(train_sadness['Rating'])\n",
    "\n",
    "train_joy_tweets = list(train_joy['Tweet'])\n",
    "train_joy_intensities = list(train_joy['Rating'])"
   ]
  },
  {
   "cell_type": "code",
   "execution_count": 47,
   "metadata": {},
   "outputs": [
    {
     "data": {
      "text/plain": [
       "['how fuck who heck moved fridge knock landlord door angry mad',\n",
       " 'so indian uber driver called someone word if moving vehicle would jumped disgusted',\n",
       " '<user> asked parcel delivered pick store address fuming poor customer service',\n",
       " 'ef whichever butt wipe pulled fire alarm davis bc sound asleep pissed angry upset tired sad tired angry',\n",
       " 'do join <user> put phone talk rude taking money acc willy nilly fuming',\n",
       " 'my blood boiling',\n",
       " 'when still got whole season wentworth watch stupid cunt work ruins us loudly crying face loudly crying face <user> raging old cunt',\n",
       " '<user> tracking show equipment delivered why service suddenly delayed we already <number> weeks fuming',\n",
       " '<user> legit furious people fucking idiots',\n",
       " 'how suppose work wtf dude thanks pissing',\n",
       " 'im mad power rangers im incensed im furious',\n",
       " 'wont use using <user> <user> these guys cant get nothing right fuming',\n",
       " 'bitches aggravate like inspires biggest cunt known man kind',\n",
       " 'why <user> come glasgow night working fucking gutted waiting appearance ages raging',\n",
       " 'fuking fuming face with steam from nose',\n",
       " 'zero help <user> customer service just pushing buck back forth promising callbacks happen anger loathing',\n",
       " '<user> mention gra guy stops let <number> ppl front go wtf my blood boiling',\n",
       " 'hate lawn mower if soul would condemn fiery pits hell',\n",
       " 'people offended kendall ends photo shoot like seriously shut fuck',\n",
       " 'block everyone everywhere posting storm think everyone aware damn rain quit damn',\n",
       " 'making buddy cry bitch wait revenge hugging face ok hand light skin tone',\n",
       " 'be you tell true blooded hoop junkie switch fuck <user> team juz destroyed team you juz insult',\n",
       " 'got no response rate customer amazon disappointed face disappointed face why understand always amazon fault carrier fault',\n",
       " 'tasers immobilize taser someone fuck need shoot one second later this really sick rage fuck murder',\n",
       " '<user> <user> <user> the way blood boiling little bastards',\n",
       " 'actually fuming nothing wear saturday',\n",
       " '<user> straight people even arse straight guys think means threesome fine angry fuming',\n",
       " 'bloody parking ticket unam used face money with wings fuming',\n",
       " 'you ever find people around really irritate sometimes that right unam used face',\n",
       " 'get angry people know stop sign francis foster road',\n",
       " 'this fuck boiling inside gonna good let',\n",
       " '<user> <user> wow my bill <number> <number> hav text prove taken <number> wines fuming con',\n",
       " 'blame whole season natalie the season would different turned back alliance pissed',\n",
       " 'since update <user> loses power nearly <number> faster furious',\n",
       " '<user> fly fit rage fair',\n",
       " 'unbelievable takes <number> minutes get <user> fault call hangs fuming treat customers fairly',\n",
       " '<user> <user> we blaming <number> fucking idiots putting world middle tantrums you one',\n",
       " '<user> people infuriate',\n",
       " '<user> mine party decide party slowly transformed vengeful hell cult white male resentment',\n",
       " 'so angry <user> order <number> months ago placed order <number> card billed never received disappointing',\n",
       " 'still log fucking snap chat snap chat snap',\n",
       " '<user> sam yes not helpful we need sorting asap you keep promising stuff happen fuming',\n",
       " 'someone let snakes in my house bet it <user> kill that bugger when get my hands on him rage huck fp <number>',\n",
       " 'ef whichever butt wipe pulled fire alarm davis bc sound asleep pissed upset tired sad tired angry',\n",
       " 'why <user> come glasgow night working fucking gutted waiting appearance ages',\n",
       " 'feel furious',\n",
       " 'some mexican ladies irritate fuck outta have lil preschool fucking kids welfare amp all ll at smh',\n",
       " 'still log fucking snap chat snap chat',\n",
       " 'blame whole season natalie the season would different turned back alliance pissed bitter',\n",
       " 'people irritate mf soul',\n",
       " 'im angry face with tears of joy upside down face',\n",
       " 'people fuckin irritate',\n",
       " '<user> cruel cruel man there will be blood revenge',\n",
       " 'that way ur angry literally feel ur blood boiling',\n",
       " '<user> amount greedy mooching makes snarl',\n",
       " 'my mind raging want end',\n",
       " 'absolutely fuming woman jumped pre booked taxi drove pouting face',\n",
       " 'nothing hateful bitter fag',\n",
       " '<user> something needs done people hogging machines nobody use <number> machines one time angry not fair why pay',\n",
       " '<user> ikr people still got grudge reason like fuck',\n",
       " '<user> said talking wills uncontrollable animals moving another link these comments help fuming',\n",
       " '<user> <user> bad news ordered online gone happened order phone furious',\n",
       " 'so angry wanna cry crying face crying face crying face',\n",
       " 'oooo ooooh my god uuuugggghhhhhhhhh',\n",
       " 'boycotting <user> till butter pecan comes back furious',\n",
       " 'in <number> black people still fighting recognized human beings cant sleep angry',\n",
       " 'mom cut phone furious hugging face',\n",
       " 'once thing feed na ay raging something brother filling gaps',\n",
       " 'believe achilles killed angry',\n",
       " 'lost couple niggas want revenge put coach',\n",
       " '<user> poor packaging amazon fulfilled seller furious much confused face',\n",
       " 'where outrage black man kills another black man streets',\n",
       " 'makes fucking rate jesus nobody calling ppl like hajime abusive stop strawmen lmao',\n",
       " 'absolutely fuming scratched car pouting face pouting face pouting face pouting face pouting face pouting face',\n",
       " '<user> holy shit bee sting like fuck dying',\n",
       " 'how fuck who heck moved fridge knock landlord door mad',\n",
       " 'dislike people get offended littlest shit',\n",
       " 'what fuck supposed lunch dinner money work furious angry day <number>',\n",
       " '<user> one person ruins season <number> angry',\n",
       " 'what fuck supposed lunch dinner money work angry day <number>',\n",
       " '<user> buses unreliable ticket app unable get two buses late work fuming useless reply',\n",
       " 'so indian uber driver called someone word if moving vehicle would jumped disgusted offended',\n",
       " 'the liberal outrage king saying word really angers the white yuppie progressives go fuck shame blacks',\n",
       " 'just paid chicken <user> even get expressionless face expressionless face expressionless face goes <number> dollars customer angry',\n",
       " 'mistake half assed excuse burning hell forever',\n",
       " '<user> years irrelevant its absolute joke man utd ticketing fuming no loyalty joke not impressed',\n",
       " '<user> part <number> buzzing cheeky squash ie two not expected sort it out food angry <user> <user>',\n",
       " 'tasers immobilize taser someone fuck need shoot one second later this really sick fuck murder',\n",
       " 'be you tell true blooded hoop junkie switch fuck <user> team juz destroyed team you juz',\n",
       " '<user> fucked coupon goal raging',\n",
       " 'lvg bribed refs utd personal revenge that foul prick',\n",
       " 'now whole clown rage scared shitless gonna go cry room',\n",
       " 'worst juror ever michelle you nicole biggest threat bitter bb <number>',\n",
       " 'your twitter picture makes fume',\n",
       " '<user> cruel cruel man there will be blood',\n",
       " 'that really madden career game sucks ea sports piss poor job every year shit',\n",
       " '<user> <user> ha right san jose ca offended right dave go walk something next time',\n",
       " '<user> something needs done people hogging machines nobody use <number> machines one time not fair why pay',\n",
       " 'wonder american city next protest police shootings who next smh when will its top angry how many more times',\n",
       " '<user> <user> another angry white man']"
      ]
     },
     "execution_count": 47,
     "metadata": {},
     "output_type": "execute_result"
    }
   ],
   "source": [
    "# check\n",
    "train_anger_tweets[:100]"
   ]
  },
  {
   "cell_type": "code",
   "execution_count": 48,
   "metadata": {},
   "outputs": [
    {
     "data": {
      "text/plain": [
       "[0.938,\n",
       " 0.8959999999999999,\n",
       " 0.8959999999999999,\n",
       " 0.8959999999999999,\n",
       " 0.8959999999999999,\n",
       " 0.875,\n",
       " 0.875,\n",
       " 0.875,\n",
       " 0.875,\n",
       " 0.875]"
      ]
     },
     "execution_count": 48,
     "metadata": {},
     "output_type": "execute_result"
    }
   ],
   "source": [
    "# check\n",
    "train_anger_intensities[:10]"
   ]
  },
  {
   "cell_type": "code",
   "execution_count": 49,
   "metadata": {},
   "outputs": [],
   "source": [
    "dev_anger_tweets = list(dev_anger['Tweet'])\n",
    "dev_anger_intensities = list(dev_anger['Rating'])\n",
    "\n",
    "dev_fear_tweets = list(dev_fear['Tweet'])\n",
    "dev_fear_intensities = list(dev_fear['Rating'])\n",
    "\n",
    "dev_sadness_tweets = list(dev_sadness['Tweet'])\n",
    "dev_sadness_intensities = list(dev_sadness['Rating'])\n",
    "\n",
    "dev_joy_tweets = list(dev_joy['Tweet'])\n",
    "dev_joy_intensities = list(dev_joy['Rating'])"
   ]
  },
  {
   "cell_type": "code",
   "execution_count": 50,
   "metadata": {},
   "outputs": [],
   "source": [
    "test_anger_tweets = list(test_anger['Tweet'])\n",
    "test_anger_intensities = list(test_anger['Rating'])\n",
    "\n",
    "test_fear_tweets = list(test_fear['Tweet'])\n",
    "test_fear_intensities = list(test_fear['Rating'])\n",
    "\n",
    "test_sadness_tweets = list(test_sadness['Tweet'])\n",
    "test_sadness_intensities = list(test_sadness['Rating'])\n",
    "\n",
    "test_joy_tweets = list(test_joy['Tweet'])\n",
    "test_joy_intensities = list(test_joy['Rating'])"
   ]
  },
  {
   "cell_type": "code",
   "execution_count": 51,
   "metadata": {
    "scrolled": true
   },
   "outputs": [
    {
     "data": {
      "text/html": [
       "<div>\n",
       "<style scoped>\n",
       "    .dataframe tbody tr th:only-of-type {\n",
       "        vertical-align: middle;\n",
       "    }\n",
       "\n",
       "    .dataframe tbody tr th {\n",
       "        vertical-align: top;\n",
       "    }\n",
       "\n",
       "    .dataframe thead th {\n",
       "        text-align: right;\n",
       "    }\n",
       "</style>\n",
       "<table border=\"1\" class=\"dataframe\">\n",
       "  <thead>\n",
       "    <tr style=\"text-align: right;\">\n",
       "      <th></th>\n",
       "      <th>max text length</th>\n",
       "    </tr>\n",
       "  </thead>\n",
       "  <tbody>\n",
       "    <tr>\n",
       "      <th>train_anger</th>\n",
       "      <td>77</td>\n",
       "    </tr>\n",
       "    <tr>\n",
       "      <th>train_fear</th>\n",
       "      <td>28</td>\n",
       "    </tr>\n",
       "    <tr>\n",
       "      <th>train_joy</th>\n",
       "      <td>33</td>\n",
       "    </tr>\n",
       "    <tr>\n",
       "      <th>train_sadness</th>\n",
       "      <td>79</td>\n",
       "    </tr>\n",
       "    <tr>\n",
       "      <th>dev_anger</th>\n",
       "      <td>21</td>\n",
       "    </tr>\n",
       "    <tr>\n",
       "      <th>dev_fear</th>\n",
       "      <td>24</td>\n",
       "    </tr>\n",
       "    <tr>\n",
       "      <th>dev_joy</th>\n",
       "      <td>23</td>\n",
       "    </tr>\n",
       "    <tr>\n",
       "      <th>dev_sadness</th>\n",
       "      <td>30</td>\n",
       "    </tr>\n",
       "    <tr>\n",
       "      <th>test_anger</th>\n",
       "      <td>43</td>\n",
       "    </tr>\n",
       "    <tr>\n",
       "      <th>test_fear</th>\n",
       "      <td>38</td>\n",
       "    </tr>\n",
       "    <tr>\n",
       "      <th>test_joy</th>\n",
       "      <td>42</td>\n",
       "    </tr>\n",
       "    <tr>\n",
       "      <th>test_sadness</th>\n",
       "      <td>27</td>\n",
       "    </tr>\n",
       "  </tbody>\n",
       "</table>\n",
       "</div>"
      ],
      "text/plain": [
       "               max text length\n",
       "train_anger                 77\n",
       "train_fear                  28\n",
       "train_joy                   33\n",
       "train_sadness               79\n",
       "dev_anger                   21\n",
       "dev_fear                    24\n",
       "dev_joy                     23\n",
       "dev_sadness                 30\n",
       "test_anger                  43\n",
       "test_fear                   38\n",
       "test_joy                    42\n",
       "test_sadness                27"
      ]
     },
     "execution_count": 51,
     "metadata": {},
     "output_type": "execute_result"
    }
   ],
   "source": [
    "# show Max Text Length of All Datasets for comparsion\n",
    "\n",
    "all_tweets_max_len = pd.DataFrame(np.array([max(show_text_len(train_anger)), max(show_text_len(train_fear)), max(show_text_len(train_joy)),\\\n",
    "                              max(show_text_len(train_sadness)), max(show_text_len(dev_anger)), max(show_text_len(dev_fear)),\\\n",
    "                                  max(show_text_len(dev_joy)), max(show_text_len(dev_sadness)), max(show_text_len(test_anger)),\\\n",
    "                                  max(show_text_len(test_fear)), max(show_text_len(test_joy)), max(show_text_len(test_sadness))]))\n",
    "\n",
    "all_tweets_max_len.index = ['train_anger', 'train_fear', 'train_joy', 'train_sadness', 'dev_anger', 'dev_fear', 'dev_joy', 'dev_sadness',\\\n",
    "                            'test_anger', 'test_fear', 'test_joy', 'test_sadness']\n",
    "all_tweets_max_len.columns = ['max text length']\n",
    "\n",
    "all_tweets_max_len"
   ]
  },
  {
   "cell_type": "code",
   "execution_count": 52,
   "metadata": {},
   "outputs": [
    {
     "data": {
      "image/png": "[encoded data removed]",
      "text/plain": [
       "<Figure size 432x288 with 1 Axes>"
      ]
     },
     "metadata": {
      "needs_background": "light"
     },
     "output_type": "display_data"
    }
   ],
   "source": [
    "%matplotlib inline\n",
    "import matplotlib.pyplot as plt\n",
    "all_tweets_max_len.plot(kind='bar')\n",
    "plt.title('Max Text Length of All Datasets')\n",
    "plt.show()"
   ]
  },
  {
   "cell_type": "code",
   "execution_count": 53,
   "metadata": {},
   "outputs": [
    {
     "data": {
      "text/plain": [
       "79"
      ]
     },
     "execution_count": 53,
     "metadata": {},
     "output_type": "execute_result"
    }
   ],
   "source": [
    "'''\n",
    "we set the length to which each tweet vector will be zero padded to.\n",
    "this is based on the maximum length we got on the training set - we do not want to remove\n",
    "any words as the maximun length of the training set is not very big.\n",
    "'''\n",
    "\n",
    "max_len = max(max(show_text_len(train_anger)), max(show_text_len(train_fear)), max(show_text_len(train_joy)),\\\n",
    "             max(show_text_len(train_sadness)))\n",
    "max_len"
   ]
  },
  {
   "cell_type": "markdown",
   "metadata": {},
   "source": [
    "# 2)  Prepare Sentence Vectors as Inputs"
   ]
  },
  {
   "cell_type": "code",
   "execution_count": 64,
   "metadata": {},
   "outputs": [
    {
     "data": {
      "text/plain": [
       "['how fuck who heck moved fridge knock landlord door angry mad',\n",
       " 'so indian uber driver called someone word if moving vehicle would jumped disgusted']"
      ]
     },
     "execution_count": 64,
     "metadata": {},
     "output_type": "execute_result"
    }
   ],
   "source": [
    "train_anger_tweets1 = [s.split() for s in train_anger_tweets]\n",
    "train_fear_tweets1 = [s.split() for s in train_fear_tweets]\n",
    "train_joy_tweets1 = [s.split() for s in train_joy_tweets]\n",
    "train_sadness_tweets1 = [s.split() for s in train_sadness_tweets]\n",
    "\n",
    "train_anger_tweets[:2]"
   ]
  },
  {
   "cell_type": "code",
   "execution_count": 65,
   "metadata": {},
   "outputs": [],
   "source": [
    "dev_anger_tweets1 = [s.split() for s in dev_anger_tweets]\n",
    "dev_fear_tweets1 = [s.split() for s in dev_fear_tweets]\n",
    "dev_joy_tweets1 = [s.split() for s in dev_joy_tweets]\n",
    "dev_sadness_tweets1 = [s.split() for s in dev_sadness_tweets]"
   ]
  },
  {
   "cell_type": "code",
   "execution_count": 66,
   "metadata": {},
   "outputs": [],
   "source": [
    "test_anger_tweets1 = [s.split() for s in test_anger_tweets]\n",
    "test_fear_tweets1 = [s.split() for s in test_fear_tweets]\n",
    "test_joy_tweets1 = [s.split() for s in test_joy_tweets]\n",
    "test_sadness_tweets1 = [s.split() for s in test_sadness_tweets]"
   ]
  },
  {
   "cell_type": "code",
   "execution_count": null,
   "metadata": {},
   "outputs": [],
   "source": []
  },
  {
   "cell_type": "code",
   "execution_count": 67,
   "metadata": {},
   "outputs": [],
   "source": [
    "# Glove"
   ]
  },
  {
   "cell_type": "code",
   "execution_count": 68,
   "metadata": {},
   "outputs": [],
   "source": [
    "import numpy as np\n",
    "from numpy import zeros"
   ]
  },
  {
   "cell_type": "code",
   "execution_count": 69,
   "metadata": {},
   "outputs": [
    {
     "data": {
      "text/plain": [
       "(857, 100)"
      ]
     },
     "execution_count": 69,
     "metadata": {},
     "output_type": "execute_result"
    }
   ],
   "source": [
    "# prepare glove (generate sentence vectors)\n",
    "\n",
    "train_anger_sentence_vecs = []\n",
    "\n",
    "for sentence in train_anger_tweets1:\n",
    "    vector = zeros(100)\n",
    "    word_num = 0\n",
    "    for word in sentence[:80]:\n",
    "        if word in wv_model_g.keys():\n",
    "            vector += wv_model_g.get(word)\n",
    "            word_num += 1\n",
    "    if word_num > 0 :\n",
    "        vector = vector / word_num\n",
    "    train_anger_sentence_vecs.append(vector)\n",
    "np.array(train_anger_sentence_vecs).shape"
   ]
  },
  {
   "cell_type": "code",
   "execution_count": 70,
   "metadata": {},
   "outputs": [],
   "source": [
    "train_fear_sentence_vecs = []\n",
    "\n",
    "for sentence in train_fear_tweets1:\n",
    "    vector = zeros(100)\n",
    "    word_num = 0\n",
    "    for word in sentence[:80]:\n",
    "        if word in wv_model_g.keys():\n",
    "            vector += wv_model_g.get(word)\n",
    "            word_num += 1\n",
    "    if word_num > 0 :\n",
    "        vector = vector / word_num\n",
    "    train_fear_sentence_vecs.append(vector)\n",
    "    \n",
    "#\n",
    "train_joy_sentence_vecs = []\n",
    "\n",
    "for sentence in train_joy_tweets1:\n",
    "    vector = zeros(100)\n",
    "    word_num = 0\n",
    "    for word in sentence[:80]:\n",
    "        if word in wv_model_g.keys():\n",
    "            vector += wv_model_g.get(word)\n",
    "            word_num += 1\n",
    "    if word_num > 0 :\n",
    "        vector = vector / word_num\n",
    "    train_joy_sentence_vecs.append(vector)\n",
    "    \n",
    "#\n",
    "train_sadness_sentence_vecs = []\n",
    "\n",
    "for sentence in train_sadness_tweets1:\n",
    "    vector = zeros(100)\n",
    "    word_num = 0\n",
    "    for word in sentence[:80]:\n",
    "        if word in wv_model_g.keys():\n",
    "            vector += wv_model_g.get(word)\n",
    "            word_num += 1\n",
    "    if word_num > 0 :\n",
    "        vector = vector / word_num\n",
    "    train_sadness_sentence_vecs.append(vector)"
   ]
  },
  {
   "cell_type": "code",
   "execution_count": 71,
   "metadata": {},
   "outputs": [],
   "source": [
    "dev_anger_sentence_vecs = []\n",
    "\n",
    "for sentence in dev_anger_tweets1:\n",
    "    vector = zeros(100)\n",
    "    word_num = 0\n",
    "    for word in sentence[:80]:\n",
    "        if word in wv_model_g.keys():\n",
    "            vector += wv_model_g.get(word)\n",
    "            word_num += 1\n",
    "    if word_num > 0 :\n",
    "        vector = vector / word_num\n",
    "    dev_anger_sentence_vecs.append(vector)\n",
    "    \n",
    "    \n",
    "dev_fear_sentence_vecs = []\n",
    "\n",
    "for sentence in dev_fear_tweets1:\n",
    "    vector = zeros(100)\n",
    "    word_num = 0\n",
    "    for word in sentence[:80]:\n",
    "        if word in wv_model_g.keys():\n",
    "            vector += wv_model_g.get(word)\n",
    "            word_num += 1\n",
    "    if word_num > 0 :\n",
    "        vector = vector / word_num\n",
    "    dev_fear_sentence_vecs.append(vector)\n",
    "    \n",
    "#\n",
    "dev_joy_sentence_vecs = []\n",
    "\n",
    "for sentence in dev_joy_tweets1:\n",
    "    vector = zeros(100)\n",
    "    word_num = 0\n",
    "    for word in sentence[:80]:\n",
    "        if word in wv_model_g.keys():\n",
    "            vector += wv_model_g.get(word)\n",
    "            word_num += 1\n",
    "    if word_num > 0 :\n",
    "        vector = vector / word_num\n",
    "    dev_joy_sentence_vecs.append(vector)\n",
    "    \n",
    "#\n",
    "dev_sadness_sentence_vecs = []\n",
    "\n",
    "for sentence in dev_sadness_tweets1:\n",
    "    vector = zeros(100)\n",
    "    word_num = 0\n",
    "    for word in sentence[:80]:\n",
    "        if word in wv_model_g.keys():\n",
    "            vector += wv_model_g.get(word)\n",
    "            word_num += 1\n",
    "    if word_num > 0 :\n",
    "        vector = vector / word_num\n",
    "    dev_sadness_sentence_vecs.append(vector)"
   ]
  },
  {
   "cell_type": "code",
   "execution_count": 72,
   "metadata": {},
   "outputs": [],
   "source": [
    "test_anger_sentence_vecs = []\n",
    "\n",
    "for sentence in test_anger_tweets1:\n",
    "    vector = zeros(100)\n",
    "    word_num = 0\n",
    "    for word in sentence[:80]:\n",
    "        if word in wv_model_g.keys():\n",
    "            vector += wv_model_g.get(word)\n",
    "            word_num += 1\n",
    "    if word_num > 0 :\n",
    "        vector = vector / word_num\n",
    "    test_anger_sentence_vecs.append(vector)\n",
    "    \n",
    "    \n",
    "test_fear_sentence_vecs = []\n",
    "\n",
    "for sentence in test_fear_tweets1:\n",
    "    vector = zeros(100)\n",
    "    word_num = 0\n",
    "    for word in sentence[:80]:\n",
    "        if word in wv_model_g.keys():\n",
    "            vector += wv_model_g.get(word)\n",
    "            word_num += 1\n",
    "    if word_num > 0 :\n",
    "        vector = vector / word_num\n",
    "    test_fear_sentence_vecs.append(vector)\n",
    "    \n",
    "#\n",
    "test_joy_sentence_vecs = []\n",
    "\n",
    "for sentence in test_joy_tweets1:\n",
    "    vector = zeros(100)\n",
    "    word_num = 0\n",
    "    for word in sentence[:80]:\n",
    "        if word in wv_model_g.keys():\n",
    "            vector += wv_model_g.get(word)\n",
    "            word_num += 1\n",
    "    if word_num > 0 :\n",
    "        vector = vector / word_num\n",
    "    test_joy_sentence_vecs.append(vector)\n",
    "    \n",
    "#\n",
    "test_sadness_sentence_vecs = []\n",
    "\n",
    "for sentence in test_sadness_tweets1:\n",
    "    vector = zeros(100)\n",
    "    word_num = 0\n",
    "    for word in sentence[:80]:\n",
    "        if word in wv_model_g.keys():\n",
    "            vector += wv_model_g.get(word)\n",
    "            word_num += 1\n",
    "    if word_num > 0 :\n",
    "        vector = vector / word_num\n",
    "    test_sadness_sentence_vecs.append(vector)"
   ]
  },
  {
   "cell_type": "code",
   "execution_count": null,
   "metadata": {},
   "outputs": [],
   "source": []
  },
  {
   "cell_type": "code",
   "execution_count": 73,
   "metadata": {},
   "outputs": [],
   "source": [
    "# Lexicons"
   ]
  },
  {
   "cell_type": "code",
   "execution_count": 75,
   "metadata": {
    "scrolled": true
   },
   "outputs": [
    {
     "name": "stdout",
     "output_type": "stream",
     "text": [
      "[[0, 0, 0, 0, 0, 0, 0, 0, 0, 0.824, 0.5, 0, 0, 0, 0, 0, 0, 0, 0, 0, 0, 0, 0, 0, 0, 0, 0, 0, 0, 0, 0, 0, 0, 0, 0, 0, 0, 0, 0, 0, 0, 0, 0, 0, 0, 0, 0, 0, 0, 0, 0, 0, 0, 0, 0, 0, 0, 0, 0, 0, 0, 0, 0, 0, 0, 0, 0, 0, 0, 0, 0, 0, 0, 0, 0, 0, 0, 0, 0, 0], [0, 0, 0, 0, 0, 0, 0, 0, 0.295, 0, 0, 0, 0, 0, 0, 0, 0, 0, 0, 0, 0, 0, 0, 0, 0, 0, 0, 0, 0, 0, 0, 0, 0, 0, 0, 0, 0, 0, 0, 0, 0, 0, 0, 0, 0, 0, 0, 0, 0, 0, 0, 0, 0, 0, 0, 0, 0, 0, 0, 0, 0, 0, 0, 0, 0, 0, 0, 0, 0, 0, 0, 0, 0, 0, 0, 0, 0, 0, 0, 0]]\n"
     ]
    },
    {
     "data": {
      "text/plain": [
       "(857, 80)"
      ]
     },
     "execution_count": 75,
     "metadata": {},
     "output_type": "execute_result"
    }
   ],
   "source": [
    "train_anger_sentences = []\n",
    "\n",
    "for sentence in train_anger_tweets1:\n",
    "    text = []\n",
    "    for word in sentence:\n",
    "        if word in model_le.keys():\n",
    "            vector = model_le.get(word)[0]\n",
    "        else:\n",
    "            vector = 0\n",
    "        text.append(vector)\n",
    "    train_anger_sentences.append(text)\n",
    "\n",
    "train_anger_sentences[:2]\n",
    "\n",
    "train_anger_sentence_vectors = []\n",
    "for sentence in train_anger_sentences:\n",
    "    sentence_vec = sentence + [0] * (80 - len(sentence))\n",
    "    train_anger_sentence_vectors.append(sentence_vec)\n",
    "print(train_anger_sentence_vectors[:2])\n",
    "np.array(train_anger_sentence_vectors).shape"
   ]
  },
  {
   "cell_type": "code",
   "execution_count": 76,
   "metadata": {},
   "outputs": [],
   "source": [
    "train_fear_sentences = []\n",
    "\n",
    "for sentence in train_fear_tweets1:\n",
    "    text = []\n",
    "    for word in sentence:\n",
    "        if word in model_le.keys():\n",
    "            vector = model_le.get(word)[0]\n",
    "        else:\n",
    "            vector = 0\n",
    "        text.append(vector)\n",
    "    train_fear_sentences.append(text)\n",
    "\n",
    "\n",
    "train_fear_sentence_vectors = []\n",
    "for sentence in train_fear_sentences:\n",
    "    sentence_vec = sentence + [0] * (80 - len(sentence))\n",
    "    train_fear_sentence_vectors.append(sentence_vec)\n",
    "    \n",
    "    \n",
    "#    \n",
    "train_joy_sentences = []\n",
    "  \n",
    "for sentence in train_joy_tweets1:\n",
    "    text = []\n",
    "    for word in sentence:\n",
    "        if word in model_le.keys():\n",
    "            vector = model_le.get(word)[0]\n",
    "        else:\n",
    "            vector = 0\n",
    "        text.append(vector)\n",
    "    train_joy_sentences.append(text)\n",
    "\n",
    "\n",
    "train_joy_sentence_vectors = []\n",
    "for sentence in train_joy_sentences:\n",
    "    sentence_vec = sentence + [0] * (80 - len(sentence))\n",
    "    train_joy_sentence_vectors.append(sentence_vec)\n",
    "    \n",
    "    \n",
    "    \n",
    "#\n",
    "train_sadness_sentences = []\n",
    "\n",
    "for sentence in train_sadness_tweets1:\n",
    "    text = []\n",
    "    for word in sentence:\n",
    "        if word in model_le.keys():\n",
    "            vector = model_le.get(word)[0]\n",
    "        else:\n",
    "            vector = 0\n",
    "        text.append(vector)\n",
    "    train_sadness_sentences.append(text)\n",
    "\n",
    "train_sadness_sentence_vectors = []\n",
    "for sentence in train_sadness_sentences:\n",
    "    sentence_vec = sentence + [0] * (80 - len(sentence))\n",
    "    train_sadness_sentence_vectors.append(sentence_vec)\n"
   ]
  },
  {
   "cell_type": "code",
   "execution_count": 77,
   "metadata": {},
   "outputs": [],
   "source": [
    "dev_anger_sentences = []\n",
    "\n",
    "for sentence in dev_anger_tweets1:\n",
    "    text = []\n",
    "    for word in sentence:\n",
    "        if word in model_le.keys():\n",
    "            vector = model_le.get(word)[0]\n",
    "        else:\n",
    "            vector = 0\n",
    "        text.append(vector)\n",
    "    dev_anger_sentences.append(text)\n",
    "\n",
    "\n",
    "dev_anger_sentence_vectors = []\n",
    "for sentence in dev_anger_sentences:\n",
    "    sentence_vec = sentence + [0] * (80 - len(sentence))\n",
    "    dev_anger_sentence_vectors.append(sentence_vec)\n",
    "    \n",
    "    \n",
    "#\n",
    "\n",
    "dev_fear_sentences = []\n",
    "\n",
    "for sentence in dev_fear_tweets1:\n",
    "    text = []\n",
    "    for word in sentence:\n",
    "        if word in model_le.keys():\n",
    "            vector = model_le.get(word)[0]\n",
    "        else:\n",
    "            vector = 0\n",
    "        text.append(vector)\n",
    "    dev_fear_sentences.append(text)\n",
    "\n",
    "\n",
    "dev_fear_sentence_vectors = []\n",
    "for sentence in dev_fear_sentences:\n",
    "    sentence_vec = sentence + [0] * (80 - len(sentence))\n",
    "    dev_fear_sentence_vectors.append(sentence_vec)\n",
    "    \n",
    "    \n",
    "#    \n",
    "dev_joy_sentences = []\n",
    "  \n",
    "for sentence in dev_joy_tweets1:\n",
    "    text = []\n",
    "    for word in sentence:\n",
    "        if word in model_le.keys():\n",
    "            vector = model_le.get(word)[0]\n",
    "        else:\n",
    "            vector = 0\n",
    "        text.append(vector)\n",
    "    dev_joy_sentences.append(text)\n",
    "\n",
    "\n",
    "dev_joy_sentence_vectors = []\n",
    "for sentence in dev_joy_sentences:\n",
    "    sentence_vec = sentence + [0] * (80 - len(sentence))\n",
    "    dev_joy_sentence_vectors.append(sentence_vec)\n",
    "    \n",
    "    \n",
    "    \n",
    "#\n",
    "dev_sadness_sentences = []\n",
    "\n",
    "for sentence in dev_sadness_tweets1:\n",
    "    text = []\n",
    "    for word in sentence:\n",
    "        if word in model_le.keys():\n",
    "            vector = model_le.get(word)[0]\n",
    "        else:\n",
    "            vector = 0\n",
    "        text.append(vector)\n",
    "    dev_sadness_sentences.append(text)\n",
    "\n",
    "dev_sadness_sentence_vectors = []\n",
    "for sentence in dev_sadness_sentences:\n",
    "    sentence_vec = sentence + [0] * (80 - len(sentence))\n",
    "    dev_sadness_sentence_vectors.append(sentence_vec)\n",
    "    "
   ]
  },
  {
   "cell_type": "code",
   "execution_count": 79,
   "metadata": {},
   "outputs": [],
   "source": [
    "test_anger_sentences = []\n",
    "\n",
    "for sentence in test_anger_tweets1:\n",
    "    text = []\n",
    "    for word in sentence:\n",
    "        if word in model_le.keys():\n",
    "            vector = model_le.get(word)[0]\n",
    "        else:\n",
    "            vector = 0\n",
    "        text.append(vector)\n",
    "    test_anger_sentences.append(text)\n",
    "\n",
    "\n",
    "test_anger_sentence_vectors = []\n",
    "for sentence in test_anger_sentences:\n",
    "    sentence_vec = sentence + [0] * (80 - len(sentence))\n",
    "    test_anger_sentence_vectors.append(sentence_vec)\n",
    "    \n",
    "    \n",
    "#\n",
    "\n",
    "test_fear_sentences = []\n",
    "\n",
    "for sentence in test_fear_tweets1:\n",
    "    text = []\n",
    "    for word in sentence:\n",
    "        if word in model_le.keys():\n",
    "            vector = model_le.get(word)[0]\n",
    "        else:\n",
    "            vector = 0\n",
    "        text.append(vector)\n",
    "    test_fear_sentences.append(text)\n",
    "\n",
    "\n",
    "test_fear_sentence_vectors = []\n",
    "for sentence in test_fear_sentences:\n",
    "    sentence_vec = sentence + [0] * (80 - len(sentence))\n",
    "    test_fear_sentence_vectors.append(sentence_vec)\n",
    "    \n",
    "    \n",
    "#    \n",
    "test_joy_sentences = []\n",
    "  \n",
    "for sentence in test_joy_tweets1:\n",
    "    text = []\n",
    "    for word in sentence:\n",
    "        if word in model_le.keys():\n",
    "            vector = model_le.get(word)[0]\n",
    "        else:\n",
    "            vector = 0\n",
    "        text.append(vector)\n",
    "    test_joy_sentences.append(text)\n",
    "\n",
    "\n",
    "test_joy_sentence_vectors = []\n",
    "for sentence in test_joy_sentences:\n",
    "    sentence_vec = sentence + [0] * (80 - len(sentence))\n",
    "    test_joy_sentence_vectors.append(sentence_vec)\n",
    "    \n",
    "    \n",
    "    \n",
    "#\n",
    "test_sadness_sentences = []\n",
    "\n",
    "for sentence in test_sadness_tweets1:\n",
    "    text = []\n",
    "    for word in sentence:\n",
    "        if word in model_le.keys():\n",
    "            vector = model_le.get(word)[0]\n",
    "        else:\n",
    "            vector = 0\n",
    "        text.append(vector)\n",
    "    test_sadness_sentences.append(text)\n",
    "\n",
    "test_sadness_sentence_vectors = []\n",
    "for sentence in test_sadness_sentences:\n",
    "    sentence_vec = sentence + [0] * (80 - len(sentence))\n",
    "    test_sadness_sentence_vectors.append(sentence_vec)\n",
    "    "
   ]
  },
  {
   "cell_type": "code",
   "execution_count": 82,
   "metadata": {},
   "outputs": [
    {
     "data": {
      "text/plain": [
       "(857, 180)"
      ]
     },
     "execution_count": 82,
     "metadata": {},
     "output_type": "execute_result"
    }
   ],
   "source": [
    "train_anger_vecs = []\n",
    "train_anger_vecs = np.concatenate((train_anger_sentence_vecs, train_anger_sentence_vectors),axis=1)\n",
    "train_anger_vecs.shape"
   ]
  },
  {
   "cell_type": "code",
   "execution_count": 83,
   "metadata": {},
   "outputs": [],
   "source": [
    "train_fear_vecs = np.concatenate((train_fear_sentence_vecs, train_fear_sentence_vectors),axis=1)\n",
    "train_joy_vecs = np.concatenate((train_joy_sentence_vecs, train_joy_sentence_vectors),axis=1)\n",
    "train_sadness_vecs = np.concatenate((train_sadness_sentence_vecs, train_sadness_sentence_vectors),axis=1)\n",
    "\n",
    "dev_anger_vecs = np.concatenate((dev_anger_sentence_vecs, dev_anger_sentence_vectors),axis=1)\n",
    "dev_fear_vecs = np.concatenate((dev_fear_sentence_vecs, dev_fear_sentence_vectors),axis=1)\n",
    "dev_joy_vecs = np.concatenate((dev_joy_sentence_vecs, dev_joy_sentence_vectors),axis=1)\n",
    "dev_sadness_vecs = np.concatenate((dev_sadness_sentence_vecs, dev_sadness_sentence_vectors),axis=1)\n",
    "\n",
    "test_anger_vecs = np.concatenate((test_anger_sentence_vecs, test_anger_sentence_vectors),axis=1)\n",
    "test_fear_vecs = np.concatenate((test_fear_sentence_vecs, test_fear_sentence_vectors),axis=1)\n",
    "test_joy_vecs = np.concatenate((test_joy_sentence_vecs, test_joy_sentence_vectors),axis=1)\n",
    "test_sadness_vecs = np.concatenate((test_sadness_sentence_vecs, test_sadness_sentence_vectors),axis=1)\n",
    "\n"
   ]
  },
  {
   "cell_type": "markdown",
   "metadata": {},
   "source": [
    " # 4)  Save Train Vectors & Dev. Vectors & Test Vectors"
   ]
  },
  {
   "cell_type": "code",
   "execution_count": 84,
   "metadata": {},
   "outputs": [
    {
     "name": "stdout",
     "output_type": "stream",
     "text": [
      "Train Vectors Saved\n"
     ]
    }
   ],
   "source": [
    "np.save('files/train_vectors/train_anger_vecs2.npy',train_anger_vecs)\n",
    "np.save('files/train_vectors/train_fear_vecs2.npy',train_fear_vecs)\n",
    "np.save('files/train_vectors/train_sadness_vecs2.npy',train_sadness_vecs)\n",
    "np.save('files/train_vectors/train_joy_vecs2.npy',train_joy_vecs)\n",
    "\n",
    "print('Train Vectors Saved')"
   ]
  },
  {
   "cell_type": "code",
   "execution_count": 85,
   "metadata": {},
   "outputs": [
    {
     "name": "stdout",
     "output_type": "stream",
     "text": [
      "Dev Vectors Saved\n"
     ]
    }
   ],
   "source": [
    "np.save('files/dev_vectors/dev_anger_vecs2.npy',dev_anger_vecs)\n",
    "np.save('files/dev_vectors/dev_fear_vecs2.npy',dev_fear_vecs)\n",
    "np.save('files/dev_vectors/dev_sadness_vecs2.npy',dev_sadness_vecs)\n",
    "np.save('files/dev_vectors/dev_joy_vecs2.npy',dev_joy_vecs)\n",
    "\n",
    "print('Dev Vectors Saved')"
   ]
  },
  {
   "cell_type": "code",
   "execution_count": 86,
   "metadata": {},
   "outputs": [
    {
     "name": "stdout",
     "output_type": "stream",
     "text": [
      "Test Vectors Saved\n"
     ]
    }
   ],
   "source": [
    "np.save('files/test_vectors/test_anger_vecs2.npy',test_anger_vecs)\n",
    "np.save('files/test_vectors/test_fear_vecs2.npy',test_fear_vecs)\n",
    "np.save('files/test_vectors/test_sadness_vecs2.npy',test_sadness_vecs)\n",
    "np.save('files/test_vectors/test_joy_vecs2.npy',test_joy_vecs)\n",
    "\n",
    "print('Test Vectors Saved')"
   ]
  },
  {
   "cell_type": "markdown",
   "metadata": {},
   "source": [
    "np.save('files/gold_label_vectors/train/anger.npy',np.array(train_anger_intensities))\n",
    "np.save('files/gold_label_vectors/train/fear.npy',np.array(train_fear_intensities))\n",
    "np.save('files/gold_label_vectors/train/joy.npy',np.array(train_joy_intensities))\n",
    "np.save('files/gold_label_vectors/train/sadness.npy',np.array(train_sadness_intensities))        \n",
    "\n",
    "print('Train Intensities Saved')\n",
    "\n",
    "\n",
    "np.save('files/gold_label_vectors/dev/anger.npy',np.array(dev_anger_intensities))\n",
    "np.save('files/gold_label_vectors/dev/fear.npy',np.array(dev_fear_intensities))\n",
    "np.save('files/gold_label_vectors/dev/joy.npy',np.array(dev_joy_intensities))\n",
    "np.save('files/gold_label_vectors/dev/sadness.npy',np.array(dev_sadness_intensities))        \n",
    "\n",
    "print('Dev Intensities Saved')\n",
    "\n",
    "\n",
    "np.save('files/gold_label_vectors/test/anger.npy',np.array(test_anger_intensities))\n",
    "np.save('files/gold_label_vectors/test/fear.npy',np.array(test_fear_intensities))\n",
    "np.save('files/gold_label_vectors/test/joy.npy',np.array(test_joy_intensities))\n",
    "np.save('files/gold_label_vectors/test/sadness.npy',np.array(test_sadness_intensities))        \n",
    "\n",
    "print('Test Intensities Saved')"
   ]
  },
  {
   "cell_type": "code",
   "execution_count": null,
   "metadata": {},
   "outputs": [],
   "source": []
  },
  {
   "cell_type": "code",
   "execution_count": null,
   "metadata": {},
   "outputs": [],
   "source": []
  },
  {
   "cell_type": "code",
   "execution_count": null,
   "metadata": {},
   "outputs": [],
   "source": []
  },
  {
   "cell_type": "code",
   "execution_count": null,
   "metadata": {},
   "outputs": [],
   "source": []
  },
  {
   "cell_type": "code",
   "execution_count": null,
   "metadata": {},
   "outputs": [],
   "source": []
  }
 ],
 "metadata": {
  "kernelspec": {
   "display_name": "Python 3",
   "language": "python",
   "name": "python3"
  },
  "language_info": {
   "codemirror_mode": {
    "name": "ipython",
    "version": 3
   },
   "file_extension": ".py",
   "mimetype": "text/x-python",
   "name": "python",
   "nbconvert_exporter": "python",
   "pygments_lexer": "ipython3",
   "version": "3.6.9"
  }
 },
 "nbformat": 4,
 "nbformat_minor": 4
}
